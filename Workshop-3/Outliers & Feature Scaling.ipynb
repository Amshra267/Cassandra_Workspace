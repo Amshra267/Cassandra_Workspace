{
  "nbformat": 4,
  "nbformat_minor": 0,
  "metadata": {
    "colab": {
      "name": "Workshop3.ipynb",
      "provenance": [],
      "collapsed_sections": []
    },
    "kernelspec": {
      "name": "python3",
      "display_name": "Python 3"
    },
    "language_info": {
      "name": "python"
    }
  },
  "cells": [
    {
      "cell_type": "markdown",
      "source": [
        "# **Noisy Data(Outliers)**\n",
        "\n",
        "*In statistics, an outlier is an observation point that is distant from other observations*\n",
        "\n",
        "In a dataset sometimes there are some data which are different from other data of a column. These are outliers. The outliers affects the prediction of the model as it shows different behaviour than the other data. The outliers can be a result of a mistake during data collection or it can be just an indication of variance in your data.</br>\n",
        "\n",
        "<p align=\"center\">\n",
        "  <img src=\"https://miro.medium.com/max/243/1*MnIW35xSxsSiVopfbE6SxA.png\" />\n",
        "</p>\n",
        "\n",
        "For example in this data except player 3 everyone have 300+ scores. So here we can easily see that Player3 is an outlier.</br>\n",
        "\n",
        "But detecting outliers are not that easy and neither removing them as there can be lakhs of rows and more than 20 columns. In that case we have to use some methods to detect outliers.</br>\n",
        "\n"
      ],
      "metadata": {
        "id": "oWcMrFO87Kwz"
      }
    },
    {
      "cell_type": "markdown",
      "source": [
        "# **Methods to detect outliers**\n",
        "\n",
        "1. **Box Plot** </br>\n",
        "<space>*In descriptive statistics, a box plot is a method for graphically depicting groups of numerical data through their quartiles. Box plots may also have lines extending vertically from the boxes (whiskers) indicating variability outside the upper and lower quartiles, hence the terms box-and-whisker plot and box-and-whisker diagram. Outliers may be plotted as individual points*</br>\n",
        "<br>\n",
        "<p align=\"center\">\n",
        "  <img src=\"https://upload.wikimedia.org/wikipedia/commons/thumb/1/1a/Boxplot_vs_PDF.svg/800px-Boxplot_vs_PDF.svg.png\" />\n",
        "</p>"
      ],
      "metadata": {
        "id": "GCSwQt9ZB1Oc"
      }
    },
    {
      "cell_type": "code",
      "execution_count": null,
      "metadata": {
        "id": "t-tJZSmD6-RI",
        "colab": {
          "base_uri": "https://localhost:8080/",
          "height": 851
        },
        "outputId": "41e86a3b-03b9-444e-9ed5-dc86479c19cd"
      },
      "outputs": [
        {
          "output_type": "stream",
          "name": "stderr",
          "text": [
            "/usr/local/lib/python3.7/dist-packages/sklearn/utils/deprecation.py:87: FutureWarning: Function load_boston is deprecated; `load_boston` is deprecated in 1.0 and will be removed in 1.2.\n",
            "\n",
            "    The Boston housing prices dataset has an ethical problem. You can refer to\n",
            "    the documentation of this function for further details.\n",
            "\n",
            "    The scikit-learn maintainers therefore strongly discourage the use of this\n",
            "    dataset unless the purpose of the code is to study and educate about\n",
            "    ethical issues in data science and machine learning.\n",
            "\n",
            "    In this special case, you can fetch the dataset from the original\n",
            "    source::\n",
            "\n",
            "        import pandas as pd\n",
            "        import numpy as np\n",
            "\n",
            "\n",
            "        data_url = \"http://lib.stat.cmu.edu/datasets/boston\"\n",
            "        raw_df = pd.read_csv(data_url, sep=\"\\s+\", skiprows=22, header=None)\n",
            "        data = np.hstack([raw_df.values[::2, :], raw_df.values[1::2, :2]])\n",
            "        target = raw_df.values[1::2, 2]\n",
            "\n",
            "    Alternative datasets include the California housing dataset (i.e.\n",
            "    :func:`~sklearn.datasets.fetch_california_housing`) and the Ames housing\n",
            "    dataset. You can load the datasets as follows::\n",
            "\n",
            "        from sklearn.datasets import fetch_california_housing\n",
            "        housing = fetch_california_housing()\n",
            "\n",
            "    for the California housing dataset and::\n",
            "\n",
            "        from sklearn.datasets import fetch_openml\n",
            "        housing = fetch_openml(name=\"house_prices\", as_frame=True)\n",
            "\n",
            "    for the Ames housing dataset.\n",
            "    \n",
            "  warnings.warn(msg, category=FutureWarning)\n"
          ]
        },
        {
          "output_type": "execute_result",
          "data": {
            "text/html": [
              "\n",
              "  <div id=\"df-7d7a7aba-4e6c-46bd-996c-6709fb6274dc\">\n",
              "    <div class=\"colab-df-container\">\n",
              "      <div>\n",
              "<style scoped>\n",
              "    .dataframe tbody tr th:only-of-type {\n",
              "        vertical-align: middle;\n",
              "    }\n",
              "\n",
              "    .dataframe tbody tr th {\n",
              "        vertical-align: top;\n",
              "    }\n",
              "\n",
              "    .dataframe thead th {\n",
              "        text-align: right;\n",
              "    }\n",
              "</style>\n",
              "<table border=\"1\" class=\"dataframe\">\n",
              "  <thead>\n",
              "    <tr style=\"text-align: right;\">\n",
              "      <th></th>\n",
              "      <th>CRIM</th>\n",
              "      <th>ZN</th>\n",
              "      <th>INDUS</th>\n",
              "      <th>CHAS</th>\n",
              "      <th>NOX</th>\n",
              "      <th>RM</th>\n",
              "      <th>AGE</th>\n",
              "      <th>DIS</th>\n",
              "      <th>RAD</th>\n",
              "      <th>TAX</th>\n",
              "      <th>PTRATIO</th>\n",
              "      <th>B</th>\n",
              "      <th>LSTAT</th>\n",
              "    </tr>\n",
              "  </thead>\n",
              "  <tbody>\n",
              "    <tr>\n",
              "      <th>0</th>\n",
              "      <td>0.00632</td>\n",
              "      <td>18.0</td>\n",
              "      <td>2.31</td>\n",
              "      <td>0.0</td>\n",
              "      <td>0.538</td>\n",
              "      <td>6.575</td>\n",
              "      <td>65.2</td>\n",
              "      <td>4.0900</td>\n",
              "      <td>1.0</td>\n",
              "      <td>296.0</td>\n",
              "      <td>15.3</td>\n",
              "      <td>396.90</td>\n",
              "      <td>4.98</td>\n",
              "    </tr>\n",
              "    <tr>\n",
              "      <th>1</th>\n",
              "      <td>0.02731</td>\n",
              "      <td>0.0</td>\n",
              "      <td>7.07</td>\n",
              "      <td>0.0</td>\n",
              "      <td>0.469</td>\n",
              "      <td>6.421</td>\n",
              "      <td>78.9</td>\n",
              "      <td>4.9671</td>\n",
              "      <td>2.0</td>\n",
              "      <td>242.0</td>\n",
              "      <td>17.8</td>\n",
              "      <td>396.90</td>\n",
              "      <td>9.14</td>\n",
              "    </tr>\n",
              "    <tr>\n",
              "      <th>2</th>\n",
              "      <td>0.02729</td>\n",
              "      <td>0.0</td>\n",
              "      <td>7.07</td>\n",
              "      <td>0.0</td>\n",
              "      <td>0.469</td>\n",
              "      <td>7.185</td>\n",
              "      <td>61.1</td>\n",
              "      <td>4.9671</td>\n",
              "      <td>2.0</td>\n",
              "      <td>242.0</td>\n",
              "      <td>17.8</td>\n",
              "      <td>392.83</td>\n",
              "      <td>4.03</td>\n",
              "    </tr>\n",
              "    <tr>\n",
              "      <th>3</th>\n",
              "      <td>0.03237</td>\n",
              "      <td>0.0</td>\n",
              "      <td>2.18</td>\n",
              "      <td>0.0</td>\n",
              "      <td>0.458</td>\n",
              "      <td>6.998</td>\n",
              "      <td>45.8</td>\n",
              "      <td>6.0622</td>\n",
              "      <td>3.0</td>\n",
              "      <td>222.0</td>\n",
              "      <td>18.7</td>\n",
              "      <td>394.63</td>\n",
              "      <td>2.94</td>\n",
              "    </tr>\n",
              "    <tr>\n",
              "      <th>4</th>\n",
              "      <td>0.06905</td>\n",
              "      <td>0.0</td>\n",
              "      <td>2.18</td>\n",
              "      <td>0.0</td>\n",
              "      <td>0.458</td>\n",
              "      <td>7.147</td>\n",
              "      <td>54.2</td>\n",
              "      <td>6.0622</td>\n",
              "      <td>3.0</td>\n",
              "      <td>222.0</td>\n",
              "      <td>18.7</td>\n",
              "      <td>396.90</td>\n",
              "      <td>5.33</td>\n",
              "    </tr>\n",
              "  </tbody>\n",
              "</table>\n",
              "</div>\n",
              "      <button class=\"colab-df-convert\" onclick=\"convertToInteractive('df-7d7a7aba-4e6c-46bd-996c-6709fb6274dc')\"\n",
              "              title=\"Convert this dataframe to an interactive table.\"\n",
              "              style=\"display:none;\">\n",
              "        \n",
              "  <svg xmlns=\"http://www.w3.org/2000/svg\" height=\"24px\"viewBox=\"0 0 24 24\"\n",
              "       width=\"24px\">\n",
              "    <path d=\"M0 0h24v24H0V0z\" fill=\"none\"/>\n",
              "    <path d=\"M18.56 5.44l.94 2.06.94-2.06 2.06-.94-2.06-.94-.94-2.06-.94 2.06-2.06.94zm-11 1L8.5 8.5l.94-2.06 2.06-.94-2.06-.94L8.5 2.5l-.94 2.06-2.06.94zm10 10l.94 2.06.94-2.06 2.06-.94-2.06-.94-.94-2.06-.94 2.06-2.06.94z\"/><path d=\"M17.41 7.96l-1.37-1.37c-.4-.4-.92-.59-1.43-.59-.52 0-1.04.2-1.43.59L10.3 9.45l-7.72 7.72c-.78.78-.78 2.05 0 2.83L4 21.41c.39.39.9.59 1.41.59.51 0 1.02-.2 1.41-.59l7.78-7.78 2.81-2.81c.8-.78.8-2.07 0-2.86zM5.41 20L4 18.59l7.72-7.72 1.47 1.35L5.41 20z\"/>\n",
              "  </svg>\n",
              "      </button>\n",
              "      \n",
              "  <style>\n",
              "    .colab-df-container {\n",
              "      display:flex;\n",
              "      flex-wrap:wrap;\n",
              "      gap: 12px;\n",
              "    }\n",
              "\n",
              "    .colab-df-convert {\n",
              "      background-color: #E8F0FE;\n",
              "      border: none;\n",
              "      border-radius: 50%;\n",
              "      cursor: pointer;\n",
              "      display: none;\n",
              "      fill: #1967D2;\n",
              "      height: 32px;\n",
              "      padding: 0 0 0 0;\n",
              "      width: 32px;\n",
              "    }\n",
              "\n",
              "    .colab-df-convert:hover {\n",
              "      background-color: #E2EBFA;\n",
              "      box-shadow: 0px 1px 2px rgba(60, 64, 67, 0.3), 0px 1px 3px 1px rgba(60, 64, 67, 0.15);\n",
              "      fill: #174EA6;\n",
              "    }\n",
              "\n",
              "    [theme=dark] .colab-df-convert {\n",
              "      background-color: #3B4455;\n",
              "      fill: #D2E3FC;\n",
              "    }\n",
              "\n",
              "    [theme=dark] .colab-df-convert:hover {\n",
              "      background-color: #434B5C;\n",
              "      box-shadow: 0px 1px 3px 1px rgba(0, 0, 0, 0.15);\n",
              "      filter: drop-shadow(0px 1px 2px rgba(0, 0, 0, 0.3));\n",
              "      fill: #FFFFFF;\n",
              "    }\n",
              "  </style>\n",
              "\n",
              "      <script>\n",
              "        const buttonEl =\n",
              "          document.querySelector('#df-7d7a7aba-4e6c-46bd-996c-6709fb6274dc button.colab-df-convert');\n",
              "        buttonEl.style.display =\n",
              "          google.colab.kernel.accessAllowed ? 'block' : 'none';\n",
              "\n",
              "        async function convertToInteractive(key) {\n",
              "          const element = document.querySelector('#df-7d7a7aba-4e6c-46bd-996c-6709fb6274dc');\n",
              "          const dataTable =\n",
              "            await google.colab.kernel.invokeFunction('convertToInteractive',\n",
              "                                                     [key], {});\n",
              "          if (!dataTable) return;\n",
              "\n",
              "          const docLinkHtml = 'Like what you see? Visit the ' +\n",
              "            '<a target=\"_blank\" href=https://colab.research.google.com/notebooks/data_table.ipynb>data table notebook</a>'\n",
              "            + ' to learn more about interactive tables.';\n",
              "          element.innerHTML = '';\n",
              "          dataTable['output_type'] = 'display_data';\n",
              "          await google.colab.output.renderOutput(dataTable, element);\n",
              "          const docLink = document.createElement('div');\n",
              "          docLink.innerHTML = docLinkHtml;\n",
              "          element.appendChild(docLink);\n",
              "        }\n",
              "      </script>\n",
              "    </div>\n",
              "  </div>\n",
              "  "
            ],
            "text/plain": [
              "      CRIM    ZN  INDUS  CHAS    NOX  ...  RAD    TAX  PTRATIO       B  LSTAT\n",
              "0  0.00632  18.0   2.31   0.0  0.538  ...  1.0  296.0     15.3  396.90   4.98\n",
              "1  0.02731   0.0   7.07   0.0  0.469  ...  2.0  242.0     17.8  396.90   9.14\n",
              "2  0.02729   0.0   7.07   0.0  0.469  ...  2.0  242.0     17.8  392.83   4.03\n",
              "3  0.03237   0.0   2.18   0.0  0.458  ...  3.0  222.0     18.7  394.63   2.94\n",
              "4  0.06905   0.0   2.18   0.0  0.458  ...  3.0  222.0     18.7  396.90   5.33\n",
              "\n",
              "[5 rows x 13 columns]"
            ]
          },
          "metadata": {},
          "execution_count": 27
        }
      ],
      "source": [
        "import pandas as pd\n",
        "from sklearn.datasets import load_boston\n",
        "import matplotlib.pyplot as plt\n",
        "\n",
        "\n",
        "boston = load_boston()\n",
        "x = boston.data\n",
        "y = boston.target\n",
        "columns = boston.feature_names\n",
        "\n",
        "#create the dataframe\n",
        "boston_df = pd.DataFrame(boston.data)\n",
        "boston_df.columns = columns\n",
        "boston_df.head()"
      ]
    },
    {
      "cell_type": "code",
      "source": [
        "import seaborn as sns\n",
        "sns.boxplot(x=boston_df['DIS'])"
      ],
      "metadata": {
        "id": "jDbn3wAL8MVo",
        "colab": {
          "base_uri": "https://localhost:8080/",
          "height": 296
        },
        "outputId": "19dcc99b-cd0c-44d3-da57-44d293b23ffa"
      },
      "execution_count": null,
      "outputs": [
        {
          "output_type": "execute_result",
          "data": {
            "text/plain": [
              "<matplotlib.axes._subplots.AxesSubplot at 0x7effcf4b3a90>"
            ]
          },
          "metadata": {},
          "execution_count": 28
        },
        {
          "output_type": "display_data",
          "data": {
            "image/png": "[encoded data removed]",
            "text/plain": [
              "<Figure size 432x288 with 1 Axes>"
            ]
          },
          "metadata": {
            "needs_background": "light"
          }
        }
      ]
    },
    {
      "cell_type": "markdown",
      "source": [
        "2. **Scatter Plot**</br>\n",
        "<space>*A scatter plot , is a type of plot or mathematical diagram using Cartesian coordinates to display values for typically two variables for a set of data. The data are displayed as a collection of points, each having the value of one variable determining the position on the horizontal axis and the value of the other variable determining the position on the vertical axis*</br>\n",
        "<br>\n",
        "<space>Using scatter plot you can do also multivariate outlier detection. Lets say the two columns \"INDUS\" and \"TAX\". Using scatter plot you can find the outlier of the relation between these two columns."
      ],
      "metadata": {
        "id": "Be-bLeXtDVhm"
      }
    },
    {
      "cell_type": "code",
      "source": [
        "fig, ax = plt.subplots(figsize=(16,8))\n",
        "ax.scatter(boston_df['INDUS'], boston_df['TAX'])\n",
        "ax.set_xlabel('Proportion of non-retail business acres per town')\n",
        "ax.set_ylabel('Full-value property-tax rate per $10,000')\n",
        "plt.show()"
      ],
      "metadata": {
        "id": "KtmsaEWU8MYZ",
        "colab": {
          "base_uri": "https://localhost:8080/",
          "height": 497
        },
        "outputId": "b5326ba6-d6ea-466c-986d-b828256a5a78"
      },
      "execution_count": null,
      "outputs": [
        {
          "output_type": "display_data",
          "data": {
            "image/png": "[encoded data removed]",
            "text/plain": [
              "<Figure size 1152x576 with 1 Axes>"
            ]
          },
          "metadata": {
            "needs_background": "light"
          }
        }
      ]
    },
    {
      "cell_type": "markdown",
      "source": [
        "3. **Z-score**</br>\n",
        "<space>*The Z-score is the signed number of standard deviations by which the value of an observation or data point is above the mean value of what is being observed or measured*</br>\n",
        "<br>\n",
        "<p align=\"center\">\n",
        "  <img src=\"https://www.simplypsychology.org/Z-score-formula.jpg\" />\n",
        "</p>"
      ],
      "metadata": {
        "id": "M3yMZIiTFVts"
      }
    },
    {
      "cell_type": "code",
      "source": [
        "from scipy import stats\n",
        "import numpy as np\n",
        "z = np.abs(stats.zscore(boston_df))\n",
        "print(z)"
      ],
      "metadata": {
        "id": "S-R-02Kg8Max",
        "colab": {
          "base_uri": "https://localhost:8080/"
        },
        "outputId": "f58fa15a-4533-4a32-ed44-e9821961bab4"
      },
      "execution_count": null,
      "outputs": [
        {
          "output_type": "stream",
          "name": "stdout",
          "text": [
            "[[0.41978194 0.28482986 1.2879095  ... 1.45900038 0.44105193 1.0755623 ]\n",
            " [0.41733926 0.48772236 0.59338101 ... 0.30309415 0.44105193 0.49243937]\n",
            " [0.41734159 0.48772236 0.59338101 ... 0.30309415 0.39642699 1.2087274 ]\n",
            " ...\n",
            " [0.41344658 0.48772236 0.11573841 ... 1.17646583 0.44105193 0.98304761]\n",
            " [0.40776407 0.48772236 0.11573841 ... 1.17646583 0.4032249  0.86530163]\n",
            " [0.41500016 0.48772236 0.11573841 ... 1.17646583 0.44105193 0.66905833]]\n"
          ]
        }
      ]
    },
    {
      "cell_type": "code",
      "source": [
        "threshold = 3\n",
        "print(np.where(z > 3))"
      ],
      "metadata": {
        "id": "EReQoVz18Mcn",
        "colab": {
          "base_uri": "https://localhost:8080/"
        },
        "outputId": "f3d4a5d3-8a25-4b57-fac6-cc25bef2e3c9"
      },
      "execution_count": null,
      "outputs": [
        {
          "output_type": "stream",
          "name": "stdout",
          "text": [
            "(array([ 55,  56,  57, 102, 141, 142, 152, 154, 155, 160, 162, 163, 199,\n",
            "       200, 201, 202, 203, 204, 208, 209, 210, 211, 212, 216, 218, 219,\n",
            "       220, 221, 222, 225, 234, 236, 256, 257, 262, 269, 273, 274, 276,\n",
            "       277, 282, 283, 283, 284, 347, 351, 352, 353, 353, 354, 355, 356,\n",
            "       357, 358, 363, 364, 364, 365, 367, 369, 370, 372, 373, 374, 374,\n",
            "       380, 398, 404, 405, 406, 410, 410, 411, 412, 412, 414, 414, 415,\n",
            "       416, 418, 418, 419, 423, 424, 425, 426, 427, 427, 429, 431, 436,\n",
            "       437, 438, 445, 450, 454, 455, 456, 457, 466]), array([ 1,  1,  1, 11, 12,  3,  3,  3,  3,  3,  3,  3,  1,  1,  1,  1,  1,\n",
            "        1,  3,  3,  3,  3,  3,  3,  3,  3,  3,  3,  3,  5,  3,  3,  1,  5,\n",
            "        5,  3,  3,  3,  3,  3,  3,  1,  3,  1,  1,  7,  7,  1,  7,  7,  7,\n",
            "        3,  3,  3,  3,  3,  5,  5,  5,  3,  3,  3, 12,  5, 12,  0,  0,  0,\n",
            "        0,  5,  0, 11, 11, 11, 12,  0, 12, 11, 11,  0, 11, 11, 11, 11, 11,\n",
            "       11,  0, 11, 11, 11, 11, 11, 11, 11, 11, 11, 11, 11, 11, 11]))\n"
          ]
        }
      ]
    },
    {
      "cell_type": "code",
      "source": [
        "print(z[55][1])"
      ],
      "metadata": {
        "colab": {
          "base_uri": "https://localhost:8080/"
        },
        "id": "clKbfZ1lF9to",
        "outputId": "57c31f1c-b75f-4741-96d0-a4c23f37bc34"
      },
      "execution_count": null,
      "outputs": [
        {
          "output_type": "stream",
          "name": "stdout",
          "text": [
            "3.375038763517309\n"
          ]
        }
      ]
    },
    {
      "cell_type": "markdown",
      "source": [
        "4. **IQR Score**</br>\n",
        "<space>*The interquartile range (IQR), also called the midspread or middle 50%, or technically H-spread, is a measure of statistical dispersion, being equal to the difference between 75th and 25th percentiles, or between upper and lower quartiles, IQR = Q3 − Q1*</br>\n",
        "<space>*In other words, the IQR is the first quartile subtracted from the third quartile; these quartiles can be clearly seen on a box plot on the data*</br>\n",
        "<space> *It is a measure of the dispersion similar to standard deviation or variance, but is much more robust against outliers*"
      ],
      "metadata": {
        "id": "8fPZ8XVOGBaH"
      }
    },
    {
      "cell_type": "code",
      "source": [
        "Q1 = boston_df.quantile(0.25)\n",
        "Q3 = boston_df.quantile(0.75)\n",
        "IQR = Q3 - Q1\n",
        "print(IQR)"
      ],
      "metadata": {
        "colab": {
          "base_uri": "https://localhost:8080/"
        },
        "id": "D9pF0WcbHIQ3",
        "outputId": "09dc93e8-e28b-4157-da22-bd499410deb7"
      },
      "execution_count": null,
      "outputs": [
        {
          "output_type": "stream",
          "name": "stdout",
          "text": [
            "CRIM         3.595038\n",
            "ZN          12.500000\n",
            "INDUS       12.910000\n",
            "CHAS         0.000000\n",
            "NOX          0.175000\n",
            "RM           0.738000\n",
            "AGE         49.050000\n",
            "DIS          3.088250\n",
            "RAD         20.000000\n",
            "TAX        387.000000\n",
            "PTRATIO      2.800000\n",
            "B           20.847500\n",
            "LSTAT       10.005000\n",
            "dtype: float64\n"
          ]
        }
      ]
    },
    {
      "cell_type": "code",
      "source": [
        "Q1 - 1.5 * IQR"
      ],
      "metadata": {
        "colab": {
          "base_uri": "https://localhost:8080/"
        },
        "id": "XnHgB8ZBgmfh",
        "outputId": "8d8e0c88-daeb-4329-c06a-32a3d5f999be"
      },
      "execution_count": null,
      "outputs": [
        {
          "output_type": "execute_result",
          "data": {
            "text/plain": [
              "CRIM        -5.310511\n",
              "ZN         -18.750000\n",
              "INDUS      -14.175000\n",
              "CHAS         0.000000\n",
              "NOX          0.186500\n",
              "RM           4.778500\n",
              "AGE        -28.550000\n",
              "DIS         -2.532200\n",
              "RAD        -26.000000\n",
              "TAX       -301.500000\n",
              "PTRATIO     13.200000\n",
              "B          344.106250\n",
              "LSTAT       -8.057500\n",
              "dtype: float64"
            ]
          },
          "metadata": {},
          "execution_count": 30
        }
      ]
    },
    {
      "cell_type": "code",
      "source": [
        "Q3 + 1.5 * IQR"
      ],
      "metadata": {
        "colab": {
          "base_uri": "https://localhost:8080/"
        },
        "id": "8MsDP4mcgtdW",
        "outputId": "3f009f6a-35a9-4934-eb41-d2f43e2d32ac"
      },
      "execution_count": null,
      "outputs": [
        {
          "output_type": "execute_result",
          "data": {
            "text/plain": [
              "CRIM          9.069639\n",
              "ZN           31.250000\n",
              "INDUS        37.465000\n",
              "CHAS          0.000000\n",
              "NOX           0.886500\n",
              "RM            7.730500\n",
              "AGE         167.650000\n",
              "DIS           9.820800\n",
              "RAD          54.000000\n",
              "TAX        1246.500000\n",
              "PTRATIO      24.400000\n",
              "B           427.496250\n",
              "LSTAT        31.962500\n",
              "dtype: float64"
            ]
          },
          "metadata": {},
          "execution_count": 31
        }
      ]
    },
    {
      "cell_type": "code",
      "source": [
        "print((boston_df < (Q1 - 1.5 * IQR)) |(boston_df > (Q3 + 1.5 * IQR)))"
      ],
      "metadata": {
        "colab": {
          "base_uri": "https://localhost:8080/"
        },
        "id": "PSmELHZYHwai",
        "outputId": "c71a2db3-2439-427e-bd26-5ca721722578"
      },
      "execution_count": null,
      "outputs": [
        {
          "output_type": "stream",
          "name": "stdout",
          "text": [
            "      CRIM     ZN  INDUS   CHAS    NOX  ...    RAD    TAX  PTRATIO      B  LSTAT\n",
            "0    False  False  False  False  False  ...  False  False    False  False  False\n",
            "1    False  False  False  False  False  ...  False  False    False  False  False\n",
            "2    False  False  False  False  False  ...  False  False    False  False  False\n",
            "3    False  False  False  False  False  ...  False  False    False  False  False\n",
            "4    False  False  False  False  False  ...  False  False    False  False  False\n",
            "..     ...    ...    ...    ...    ...  ...    ...    ...      ...    ...    ...\n",
            "501  False  False  False  False  False  ...  False  False    False  False  False\n",
            "502  False  False  False  False  False  ...  False  False    False  False  False\n",
            "503  False  False  False  False  False  ...  False  False    False  False  False\n",
            "504  False  False  False  False  False  ...  False  False    False  False  False\n",
            "505  False  False  False  False  False  ...  False  False    False  False  False\n",
            "\n",
            "[506 rows x 13 columns]\n"
          ]
        }
      ]
    },
    {
      "cell_type": "markdown",
      "source": [
        "# **Removing Outliers**</br>\n",
        "1. **Z-score**</br>\n",
        "As we already have calculated Z-score we can now choose a limit of Z-score and extract rows according to that condition.</br>"
      ],
      "metadata": {
        "id": "V9ghLjvLIdG_"
      }
    },
    {
      "cell_type": "code",
      "source": [
        "boston_df_o = boston_df[(z < 3).all(axis=1)]\n",
        "print(boston_df_o)\n",
        "print(boston_df.shape, boston_df_o.shape)"
      ],
      "metadata": {
        "colab": {
          "base_uri": "https://localhost:8080/"
        },
        "id": "uX_ls_T8Jedt",
        "outputId": "bc4fa2ff-d9e0-49fe-ad08-f92e13488910"
      },
      "execution_count": null,
      "outputs": [
        {
          "output_type": "stream",
          "name": "stdout",
          "text": [
            "        CRIM    ZN  INDUS  CHAS    NOX  ...  RAD    TAX  PTRATIO       B  LSTAT\n",
            "0    0.00632  18.0   2.31   0.0  0.538  ...  1.0  296.0     15.3  396.90   4.98\n",
            "1    0.02731   0.0   7.07   0.0  0.469  ...  2.0  242.0     17.8  396.90   9.14\n",
            "2    0.02729   0.0   7.07   0.0  0.469  ...  2.0  242.0     17.8  392.83   4.03\n",
            "3    0.03237   0.0   2.18   0.0  0.458  ...  3.0  222.0     18.7  394.63   2.94\n",
            "4    0.06905   0.0   2.18   0.0  0.458  ...  3.0  222.0     18.7  396.90   5.33\n",
            "..       ...   ...    ...   ...    ...  ...  ...    ...      ...     ...    ...\n",
            "501  0.06263   0.0  11.93   0.0  0.573  ...  1.0  273.0     21.0  391.99   9.67\n",
            "502  0.04527   0.0  11.93   0.0  0.573  ...  1.0  273.0     21.0  396.90   9.08\n",
            "503  0.06076   0.0  11.93   0.0  0.573  ...  1.0  273.0     21.0  396.90   5.64\n",
            "504  0.10959   0.0  11.93   0.0  0.573  ...  1.0  273.0     21.0  393.45   6.48\n",
            "505  0.04741   0.0  11.93   0.0  0.573  ...  1.0  273.0     21.0  396.90   7.88\n",
            "\n",
            "[415 rows x 13 columns]\n",
            "(506, 13) (415, 13)\n"
          ]
        }
      ]
    },
    {
      "cell_type": "markdown",
      "source": [
        "2. **IQR Score**</br>\n",
        "Similarly like Z-score using the IQR score we have calculated we will sample out the rows."
      ],
      "metadata": {
        "id": "FakgbKaTKdnJ"
      }
    },
    {
      "cell_type": "code",
      "source": [
        "boston_df_out = boston_df[~((boston_df < (Q1 - 1.5 * IQR)) |(boston_df > (Q3 + 1.5 * IQR))).any(axis=1)]\n",
        "boston_df_out.shape"
      ],
      "metadata": {
        "colab": {
          "base_uri": "https://localhost:8080/"
        },
        "id": "BY6iC1p7KHU2",
        "outputId": "faebb235-9882-476e-cee3-58f5681b6232"
      },
      "execution_count": null,
      "outputs": [
        {
          "output_type": "execute_result",
          "data": {
            "text/plain": [
              "(274, 13)"
            ]
          },
          "metadata": {},
          "execution_count": 34
        }
      ]
    },
    {
      "cell_type": "markdown",
      "source": [
        "3. **Robust Scaler**</br>\n",
        "Using Robust Scaler also we can reduce outliers by scaling."
      ],
      "metadata": {
        "id": "xqJDUvG3LQeT"
      }
    },
    {
      "cell_type": "markdown",
      "source": [
        "# **Feature Scaling**\n",
        "\n",
        "One may have several questions while listening to this word:-\n",
        "\n",
        "- What is feature scaling?\n",
        "- Why is it necessary?\n",
        "- What are the different types of Scaling?\n",
        "- How are they different from each other in terms of effects on performance?\n",
        "\n",
        "and so on ..........."
      ],
      "metadata": {
        "id": "4xuSFC9B8M6m"
      }
    },
    {
      "cell_type": "markdown",
      "source": [
        "Ques1:- **What is feature Scaling**?\n",
        "\n",
        "Ans1-: In simple terms it defines a transformation of features from one vector space to another. For reference:-\n",
        "\n",
        "<p align=\"center\">\n",
        "<img width=500 height=300 src=\"https://editor.analyticsvidhya.com/uploads/41951FEATURE%20SCALING%20IN%20PYTHON.png\"/>\n",
        "<img width=500 height=300 src=\"https://encrypted-tbn0.gstatic.com/images?q=tbn:ANd9GcQfzHn72fYb9oCvySZakNdguuttdCkhAocxHEPWBOayzBCjQNyEqpaQTCzbSNHQfBc3hcY&usqp=CAU\"/>\n",
        "<img width=500 height=300 src=\"https://d1zx6djv3kb1v7.cloudfront.net/wp-content/media/2019/09/Feature-Scaling-i2tutorials.png\"/>\n",
        "<img width=500 height=300 src=\"https://michael-fuchs-python.netlify.app/post/2019-08-31-feature-scaling-with-scikit-learn_files/p18p10.png\"/>\n",
        "</p>"
      ],
      "metadata": {
        "id": "Pf5eV6UJP8cR"
      }
    },
    {
      "cell_type": "markdown",
      "source": [
        "Ques2:- **Why is it necessary**?\n",
        "\n",
        "Ans2:- There are several reasons to use scaling:-\n",
        "\n",
        "**(a)** **```To supress the effect of Outliers```**:- Sometimes one way of dealing with data is to apply a scaling transformation on it, it will sometimes greatly reduces it's effect. For reference:-\n",
        "\n",
        "<p align=\"center\">\n",
        "<img width=600 height=200 src=\"https://encrypted-tbn0.gstatic.com/images?q=tbn:ANd9GcRiWWzJWZI_S1PCAR4I478FauKtPlGUoeobFA&usqp=CAU\"/>\n",
        "<img width=400 height=200 src=\"https://encrypted-tbn0.gstatic.com/images?q=tbn:ANd9GcRlglBTnRSkvcoap1pzhXemSA5Cw1xAqebQag&usqp=CAU\"/>\n",
        "</p>\n",
        "\n",
        "\n",
        "**(b)** **```To fasten the Optimization```**:- It is generally advised to scale all the features on same scale to fasten the gradient descent optimization (Applicable for those models who run GD like linear, logistic, NN)because\n",
        "\n",
        "<p align=\"center\">\n",
        "<img width=500 height=200 src=\"data:image/jpeg;base64,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\"/>\n",
        "<img width=400 height=200 src=\"https://encrypted-tbn0.gstatic.com/images?q=tbn:ANd9GcTkEfiYQ291KOB4kl8_TM8vYc2q0rsbLqybyg&usqp=CAU\"/>\n",
        "</p>\n",
        "\n"
      ],
      "metadata": {
        "id": "ItuCZppVP8e9"
      }
    },
    {
      "cell_type": "markdown",
      "source": [
        "Ques3:- **What are the different types of Scaling?**\n",
        "\n",
        "Ans3-: There are a bunch of scaling techniques used in Data Science community \n",
        "and most of them is in the sklearn library.\n",
        "\n",
        "We will mention some of them:-\n",
        "\n",
        "1. Standard Scaler:-\n",
        " ```python\n",
        " from sklearn.preprocessing import StandardScaler\n",
        " ```\n",
        "Eqn:-\n",
        "<p align=\"center\">\n",
        "<img src=\"https://cdn-images-1.medium.com/max/800/0*vQEjz0mvylP--30Q.GIF\"/>\n",
        "<img width=500 height=250 src=\"https://miro.medium.com/max/1400/1*bssNfrg7qHX_flK_6k2uFA.png\"/>\n",
        "</p>\n",
        "\n",
        "2. MinMax Scaler:-\n",
        " ```python\n",
        " from sklearn.preprocessing import MinMaxScaler\n",
        " ```\n",
        "Eqn:-\n",
        "<p align=\"center\">\n",
        "<img src=\"http://androidkt.com/wp-content/uploads/2020/10/Selection_060.png\"/>\n",
        "</p>\n",
        "\n",
        "3. Robust Scaler:-\n",
        " ```python\n",
        " from sklearn.preprocessing import RobustScaler\n",
        " ```\n",
        "Eqn:-\n",
        "<p align=\"center\">\n",
        "<img src=\"https://media.geeksforgeeks.org/wp-content/uploads/20200624151526/for4.png\"/></br>\n",
        "<img width=700 height=400 src=\"https://scikit-learn.org/0.18/_images/sphx_glr_plot_robust_scaling_thumb.png\"/>\n",
        "</p>\n",
        "\n",
        "\n",
        "**In Summary:-**\n",
        "\n",
        "<img src=\"https://media.geeksforgeeks.org/wp-content/uploads/20200519001052/2020-05-18-21.png\"/>\n",
        "\n",
        "\n",
        "\n",
        "[Sklearn Scaling resource](https://scikit-learn.org/stable/modules/classes.html#module-sklearn.preprocessing)"
      ],
      "metadata": {
        "id": "8_NeWWeUP8gl"
      }
    },
    {
      "cell_type": "markdown",
      "source": [
        "**MIN MAX SCALING EXAMPLE**"
      ],
      "metadata": {
        "id": "FlvWZbSkQg5Y"
      }
    },
    {
      "cell_type": "code",
      "source": [
        "import sklearn\n",
        "import numpy as np\n",
        "import matplotlib.pyplot as plt\n",
        "from sklearn.preprocessing import MinMaxScaler\n",
        "\n",
        "a = np.arange(-50,50).reshape(-1,1)\n",
        "a\n",
        "\n",
        "b = MinMaxScaler().fit_transform(a)\n",
        "\n",
        "plt.subplot(1,2,1)\n",
        "plt.plot(a)\n",
        "plt.subplot(1,2,2)\n",
        "plt.plot(b)\n"
      ],
      "metadata": {
        "colab": {
          "base_uri": "https://localhost:8080/",
          "height": 283
        },
        "id": "YklJqKPeQgNl",
        "outputId": "8bb9f4c3-7aef-4e82-a87d-41a8ffa288b3"
      },
      "execution_count": null,
      "outputs": [
        {
          "output_type": "execute_result",
          "data": {
            "text/plain": [
              "[<matplotlib.lines.Line2D at 0x7f2e828c3910>]"
            ]
          },
          "metadata": {},
          "execution_count": 3
        },
        {
          "output_type": "display_data",
          "data": {
            "image/png": "[encoded data removed]",
            "text/plain": [
              "<Figure size 432x288 with 2 Axes>"
            ]
          },
          "metadata": {
            "needs_background": "light"
          }
        }
      ]
    },
    {
      "cell_type": "markdown",
      "source": [
        "Ques4:- **How they are different from eah other?**\n",
        "\n",
        "Ans-: I will share some good pointers on this,\n",
        "\n",
        "- When the data is og gaussian type then scale it using StandardScaler as your first choice.\n",
        "- If the amount of outlier is big then use robust scaler as first choice.\n",
        "- If non of the case is their then MinMax can be a good choice.\n",
        "\n",
        "\n",
        "**There are many more good scalers present but i left it on you to explore by yourself and applying a scaler on a dataset is more of an art than a science, you need to try each and see their preformance.**"
      ],
      "metadata": {
        "id": "nYm00DqiQZ-H"
      }
    },
    {
      "cell_type": "markdown",
      "source": [
        "**----------------------------------------------------------**"
      ],
      "metadata": {
        "id": "Tl86W70aQ4Ys"
      }
    },
    {
      "cell_type": "markdown",
      "source": [
        "# **Dataset Splitting**\n",
        "\n",
        "Before starting the model training we need to split the dataset into two parts train dataset and test dataset. This is needed to check models performences on new data.\n",
        "\n",
        "For this we can use train_test_split function of slkearn. Sometimes if there are any column of categorical values we can also use the stratify method to balance the frequency of the labels in both the train and test data. "
      ],
      "metadata": {
        "id": "vDbHDo8bLtPA"
      }
    },
    {
      "cell_type": "code",
      "source": [
        "from sklearn.datasets import load_breast_cancer\n",
        "\n",
        "bc = load_breast_cancer()\n",
        "x = bc.data\n",
        "y = bc.target\n",
        "columns = bc.feature_names\n",
        "\n",
        "#create the dataframe\n",
        "bc_df = pd.DataFrame(bc.data)\n",
        "bc_df.columns = columns\n",
        "bc_df.head()"
      ],
      "metadata": {
        "id": "1s-BbaeINgXB",
        "colab": {
          "base_uri": "https://localhost:8080/",
          "height": 305
        },
        "outputId": "1622a389-d408-488f-d5a4-e9d99005c558"
      },
      "execution_count": null,
      "outputs": [
        {
          "output_type": "execute_result",
          "data": {
            "text/html": [
              "\n",
              "  <div id=\"df-607b3663-1254-4c1e-af7e-1c6dd5fe3d4c\">\n",
              "    <div class=\"colab-df-container\">\n",
              "      <div>\n",
              "<style scoped>\n",
              "    .dataframe tbody tr th:only-of-type {\n",
              "        vertical-align: middle;\n",
              "    }\n",
              "\n",
              "    .dataframe tbody tr th {\n",
              "        vertical-align: top;\n",
              "    }\n",
              "\n",
              "    .dataframe thead th {\n",
              "        text-align: right;\n",
              "    }\n",
              "</style>\n",
              "<table border=\"1\" class=\"dataframe\">\n",
              "  <thead>\n",
              "    <tr style=\"text-align: right;\">\n",
              "      <th></th>\n",
              "      <th>mean radius</th>\n",
              "      <th>mean texture</th>\n",
              "      <th>mean perimeter</th>\n",
              "      <th>mean area</th>\n",
              "      <th>mean smoothness</th>\n",
              "      <th>mean compactness</th>\n",
              "      <th>mean concavity</th>\n",
              "      <th>mean concave points</th>\n",
              "      <th>mean symmetry</th>\n",
              "      <th>mean fractal dimension</th>\n",
              "      <th>radius error</th>\n",
              "      <th>texture error</th>\n",
              "      <th>perimeter error</th>\n",
              "      <th>area error</th>\n",
              "      <th>smoothness error</th>\n",
              "      <th>compactness error</th>\n",
              "      <th>concavity error</th>\n",
              "      <th>concave points error</th>\n",
              "      <th>symmetry error</th>\n",
              "      <th>fractal dimension error</th>\n",
              "      <th>worst radius</th>\n",
              "      <th>worst texture</th>\n",
              "      <th>worst perimeter</th>\n",
              "      <th>worst area</th>\n",
              "      <th>worst smoothness</th>\n",
              "      <th>worst compactness</th>\n",
              "      <th>worst concavity</th>\n",
              "      <th>worst concave points</th>\n",
              "      <th>worst symmetry</th>\n",
              "      <th>worst fractal dimension</th>\n",
              "    </tr>\n",
              "  </thead>\n",
              "  <tbody>\n",
              "    <tr>\n",
              "      <th>0</th>\n",
              "      <td>17.99</td>\n",
              "      <td>10.38</td>\n",
              "      <td>122.80</td>\n",
              "      <td>1001.0</td>\n",
              "      <td>0.11840</td>\n",
              "      <td>0.27760</td>\n",
              "      <td>0.3001</td>\n",
              "      <td>0.14710</td>\n",
              "      <td>0.2419</td>\n",
              "      <td>0.07871</td>\n",
              "      <td>1.0950</td>\n",
              "      <td>0.9053</td>\n",
              "      <td>8.589</td>\n",
              "      <td>153.40</td>\n",
              "      <td>0.006399</td>\n",
              "      <td>0.04904</td>\n",
              "      <td>0.05373</td>\n",
              "      <td>0.01587</td>\n",
              "      <td>0.03003</td>\n",
              "      <td>0.006193</td>\n",
              "      <td>25.38</td>\n",
              "      <td>17.33</td>\n",
              "      <td>184.60</td>\n",
              "      <td>2019.0</td>\n",
              "      <td>0.1622</td>\n",
              "      <td>0.6656</td>\n",
              "      <td>0.7119</td>\n",
              "      <td>0.2654</td>\n",
              "      <td>0.4601</td>\n",
              "      <td>0.11890</td>\n",
              "    </tr>\n",
              "    <tr>\n",
              "      <th>1</th>\n",
              "      <td>20.57</td>\n",
              "      <td>17.77</td>\n",
              "      <td>132.90</td>\n",
              "      <td>1326.0</td>\n",
              "      <td>0.08474</td>\n",
              "      <td>0.07864</td>\n",
              "      <td>0.0869</td>\n",
              "      <td>0.07017</td>\n",
              "      <td>0.1812</td>\n",
              "      <td>0.05667</td>\n",
              "      <td>0.5435</td>\n",
              "      <td>0.7339</td>\n",
              "      <td>3.398</td>\n",
              "      <td>74.08</td>\n",
              "      <td>0.005225</td>\n",
              "      <td>0.01308</td>\n",
              "      <td>0.01860</td>\n",
              "      <td>0.01340</td>\n",
              "      <td>0.01389</td>\n",
              "      <td>0.003532</td>\n",
              "      <td>24.99</td>\n",
              "      <td>23.41</td>\n",
              "      <td>158.80</td>\n",
              "      <td>1956.0</td>\n",
              "      <td>0.1238</td>\n",
              "      <td>0.1866</td>\n",
              "      <td>0.2416</td>\n",
              "      <td>0.1860</td>\n",
              "      <td>0.2750</td>\n",
              "      <td>0.08902</td>\n",
              "    </tr>\n",
              "    <tr>\n",
              "      <th>2</th>\n",
              "      <td>19.69</td>\n",
              "      <td>21.25</td>\n",
              "      <td>130.00</td>\n",
              "      <td>1203.0</td>\n",
              "      <td>0.10960</td>\n",
              "      <td>0.15990</td>\n",
              "      <td>0.1974</td>\n",
              "      <td>0.12790</td>\n",
              "      <td>0.2069</td>\n",
              "      <td>0.05999</td>\n",
              "      <td>0.7456</td>\n",
              "      <td>0.7869</td>\n",
              "      <td>4.585</td>\n",
              "      <td>94.03</td>\n",
              "      <td>0.006150</td>\n",
              "      <td>0.04006</td>\n",
              "      <td>0.03832</td>\n",
              "      <td>0.02058</td>\n",
              "      <td>0.02250</td>\n",
              "      <td>0.004571</td>\n",
              "      <td>23.57</td>\n",
              "      <td>25.53</td>\n",
              "      <td>152.50</td>\n",
              "      <td>1709.0</td>\n",
              "      <td>0.1444</td>\n",
              "      <td>0.4245</td>\n",
              "      <td>0.4504</td>\n",
              "      <td>0.2430</td>\n",
              "      <td>0.3613</td>\n",
              "      <td>0.08758</td>\n",
              "    </tr>\n",
              "    <tr>\n",
              "      <th>3</th>\n",
              "      <td>11.42</td>\n",
              "      <td>20.38</td>\n",
              "      <td>77.58</td>\n",
              "      <td>386.1</td>\n",
              "      <td>0.14250</td>\n",
              "      <td>0.28390</td>\n",
              "      <td>0.2414</td>\n",
              "      <td>0.10520</td>\n",
              "      <td>0.2597</td>\n",
              "      <td>0.09744</td>\n",
              "      <td>0.4956</td>\n",
              "      <td>1.1560</td>\n",
              "      <td>3.445</td>\n",
              "      <td>27.23</td>\n",
              "      <td>0.009110</td>\n",
              "      <td>0.07458</td>\n",
              "      <td>0.05661</td>\n",
              "      <td>0.01867</td>\n",
              "      <td>0.05963</td>\n",
              "      <td>0.009208</td>\n",
              "      <td>14.91</td>\n",
              "      <td>26.50</td>\n",
              "      <td>98.87</td>\n",
              "      <td>567.7</td>\n",
              "      <td>0.2098</td>\n",
              "      <td>0.8663</td>\n",
              "      <td>0.6869</td>\n",
              "      <td>0.2575</td>\n",
              "      <td>0.6638</td>\n",
              "      <td>0.17300</td>\n",
              "    </tr>\n",
              "    <tr>\n",
              "      <th>4</th>\n",
              "      <td>20.29</td>\n",
              "      <td>14.34</td>\n",
              "      <td>135.10</td>\n",
              "      <td>1297.0</td>\n",
              "      <td>0.10030</td>\n",
              "      <td>0.13280</td>\n",
              "      <td>0.1980</td>\n",
              "      <td>0.10430</td>\n",
              "      <td>0.1809</td>\n",
              "      <td>0.05883</td>\n",
              "      <td>0.7572</td>\n",
              "      <td>0.7813</td>\n",
              "      <td>5.438</td>\n",
              "      <td>94.44</td>\n",
              "      <td>0.011490</td>\n",
              "      <td>0.02461</td>\n",
              "      <td>0.05688</td>\n",
              "      <td>0.01885</td>\n",
              "      <td>0.01756</td>\n",
              "      <td>0.005115</td>\n",
              "      <td>22.54</td>\n",
              "      <td>16.67</td>\n",
              "      <td>152.20</td>\n",
              "      <td>1575.0</td>\n",
              "      <td>0.1374</td>\n",
              "      <td>0.2050</td>\n",
              "      <td>0.4000</td>\n",
              "      <td>0.1625</td>\n",
              "      <td>0.2364</td>\n",
              "      <td>0.07678</td>\n",
              "    </tr>\n",
              "  </tbody>\n",
              "</table>\n",
              "</div>\n",
              "      <button class=\"colab-df-convert\" onclick=\"convertToInteractive('df-607b3663-1254-4c1e-af7e-1c6dd5fe3d4c')\"\n",
              "              title=\"Convert this dataframe to an interactive table.\"\n",
              "              style=\"display:none;\">\n",
              "        \n",
              "  <svg xmlns=\"http://www.w3.org/2000/svg\" height=\"24px\"viewBox=\"0 0 24 24\"\n",
              "       width=\"24px\">\n",
              "    <path d=\"M0 0h24v24H0V0z\" fill=\"none\"/>\n",
              "    <path d=\"M18.56 5.44l.94 2.06.94-2.06 2.06-.94-2.06-.94-.94-2.06-.94 2.06-2.06.94zm-11 1L8.5 8.5l.94-2.06 2.06-.94-2.06-.94L8.5 2.5l-.94 2.06-2.06.94zm10 10l.94 2.06.94-2.06 2.06-.94-2.06-.94-.94-2.06-.94 2.06-2.06.94z\"/><path d=\"M17.41 7.96l-1.37-1.37c-.4-.4-.92-.59-1.43-.59-.52 0-1.04.2-1.43.59L10.3 9.45l-7.72 7.72c-.78.78-.78 2.05 0 2.83L4 21.41c.39.39.9.59 1.41.59.51 0 1.02-.2 1.41-.59l7.78-7.78 2.81-2.81c.8-.78.8-2.07 0-2.86zM5.41 20L4 18.59l7.72-7.72 1.47 1.35L5.41 20z\"/>\n",
              "  </svg>\n",
              "      </button>\n",
              "      \n",
              "  <style>\n",
              "    .colab-df-container {\n",
              "      display:flex;\n",
              "      flex-wrap:wrap;\n",
              "      gap: 12px;\n",
              "    }\n",
              "\n",
              "    .colab-df-convert {\n",
              "      background-color: #E8F0FE;\n",
              "      border: none;\n",
              "      border-radius: 50%;\n",
              "      cursor: pointer;\n",
              "      display: none;\n",
              "      fill: #1967D2;\n",
              "      height: 32px;\n",
              "      padding: 0 0 0 0;\n",
              "      width: 32px;\n",
              "    }\n",
              "\n",
              "    .colab-df-convert:hover {\n",
              "      background-color: #E2EBFA;\n",
              "      box-shadow: 0px 1px 2px rgba(60, 64, 67, 0.3), 0px 1px 3px 1px rgba(60, 64, 67, 0.15);\n",
              "      fill: #174EA6;\n",
              "    }\n",
              "\n",
              "    [theme=dark] .colab-df-convert {\n",
              "      background-color: #3B4455;\n",
              "      fill: #D2E3FC;\n",
              "    }\n",
              "\n",
              "    [theme=dark] .colab-df-convert:hover {\n",
              "      background-color: #434B5C;\n",
              "      box-shadow: 0px 1px 3px 1px rgba(0, 0, 0, 0.15);\n",
              "      filter: drop-shadow(0px 1px 2px rgba(0, 0, 0, 0.3));\n",
              "      fill: #FFFFFF;\n",
              "    }\n",
              "  </style>\n",
              "\n",
              "      <script>\n",
              "        const buttonEl =\n",
              "          document.querySelector('#df-607b3663-1254-4c1e-af7e-1c6dd5fe3d4c button.colab-df-convert');\n",
              "        buttonEl.style.display =\n",
              "          google.colab.kernel.accessAllowed ? 'block' : 'none';\n",
              "\n",
              "        async function convertToInteractive(key) {\n",
              "          const element = document.querySelector('#df-607b3663-1254-4c1e-af7e-1c6dd5fe3d4c');\n",
              "          const dataTable =\n",
              "            await google.colab.kernel.invokeFunction('convertToInteractive',\n",
              "                                                     [key], {});\n",
              "          if (!dataTable) return;\n",
              "\n",
              "          const docLinkHtml = 'Like what you see? Visit the ' +\n",
              "            '<a target=\"_blank\" href=https://colab.research.google.com/notebooks/data_table.ipynb>data table notebook</a>'\n",
              "            + ' to learn more about interactive tables.';\n",
              "          element.innerHTML = '';\n",
              "          dataTable['output_type'] = 'display_data';\n",
              "          await google.colab.output.renderOutput(dataTable, element);\n",
              "          const docLink = document.createElement('div');\n",
              "          docLink.innerHTML = docLinkHtml;\n",
              "          element.appendChild(docLink);\n",
              "        }\n",
              "      </script>\n",
              "    </div>\n",
              "  </div>\n",
              "  "
            ],
            "text/plain": [
              "   mean radius  mean texture  ...  worst symmetry  worst fractal dimension\n",
              "0        17.99         10.38  ...          0.4601                  0.11890\n",
              "1        20.57         17.77  ...          0.2750                  0.08902\n",
              "2        19.69         21.25  ...          0.3613                  0.08758\n",
              "3        11.42         20.38  ...          0.6638                  0.17300\n",
              "4        20.29         14.34  ...          0.2364                  0.07678\n",
              "\n",
              "[5 rows x 30 columns]"
            ]
          },
          "metadata": {},
          "execution_count": 21
        }
      ]
    },
    {
      "cell_type": "code",
      "source": [
        "bc_df_target = pd.DataFrame(bc.target)\n",
        "bc_df_target.columns = [\"Target\"]\n",
        "bc_df_target.head()"
      ],
      "metadata": {
        "colab": {
          "base_uri": "https://localhost:8080/",
          "height": 206
        },
        "id": "dqqJk3yBT7mu",
        "outputId": "d6b3ec1e-07f7-437e-df1d-726e7e5e5372"
      },
      "execution_count": null,
      "outputs": [
        {
          "output_type": "execute_result",
          "data": {
            "text/html": [
              "\n",
              "  <div id=\"df-04567561-ab66-43ee-99c3-4d5e988026bd\">\n",
              "    <div class=\"colab-df-container\">\n",
              "      <div>\n",
              "<style scoped>\n",
              "    .dataframe tbody tr th:only-of-type {\n",
              "        vertical-align: middle;\n",
              "    }\n",
              "\n",
              "    .dataframe tbody tr th {\n",
              "        vertical-align: top;\n",
              "    }\n",
              "\n",
              "    .dataframe thead th {\n",
              "        text-align: right;\n",
              "    }\n",
              "</style>\n",
              "<table border=\"1\" class=\"dataframe\">\n",
              "  <thead>\n",
              "    <tr style=\"text-align: right;\">\n",
              "      <th></th>\n",
              "      <th>Target</th>\n",
              "    </tr>\n",
              "  </thead>\n",
              "  <tbody>\n",
              "    <tr>\n",
              "      <th>0</th>\n",
              "      <td>0</td>\n",
              "    </tr>\n",
              "    <tr>\n",
              "      <th>1</th>\n",
              "      <td>0</td>\n",
              "    </tr>\n",
              "    <tr>\n",
              "      <th>2</th>\n",
              "      <td>0</td>\n",
              "    </tr>\n",
              "    <tr>\n",
              "      <th>3</th>\n",
              "      <td>0</td>\n",
              "    </tr>\n",
              "    <tr>\n",
              "      <th>4</th>\n",
              "      <td>0</td>\n",
              "    </tr>\n",
              "  </tbody>\n",
              "</table>\n",
              "</div>\n",
              "      <button class=\"colab-df-convert\" onclick=\"convertToInteractive('df-04567561-ab66-43ee-99c3-4d5e988026bd')\"\n",
              "              title=\"Convert this dataframe to an interactive table.\"\n",
              "              style=\"display:none;\">\n",
              "        \n",
              "  <svg xmlns=\"http://www.w3.org/2000/svg\" height=\"24px\"viewBox=\"0 0 24 24\"\n",
              "       width=\"24px\">\n",
              "    <path d=\"M0 0h24v24H0V0z\" fill=\"none\"/>\n",
              "    <path d=\"M18.56 5.44l.94 2.06.94-2.06 2.06-.94-2.06-.94-.94-2.06-.94 2.06-2.06.94zm-11 1L8.5 8.5l.94-2.06 2.06-.94-2.06-.94L8.5 2.5l-.94 2.06-2.06.94zm10 10l.94 2.06.94-2.06 2.06-.94-2.06-.94-.94-2.06-.94 2.06-2.06.94z\"/><path d=\"M17.41 7.96l-1.37-1.37c-.4-.4-.92-.59-1.43-.59-.52 0-1.04.2-1.43.59L10.3 9.45l-7.72 7.72c-.78.78-.78 2.05 0 2.83L4 21.41c.39.39.9.59 1.41.59.51 0 1.02-.2 1.41-.59l7.78-7.78 2.81-2.81c.8-.78.8-2.07 0-2.86zM5.41 20L4 18.59l7.72-7.72 1.47 1.35L5.41 20z\"/>\n",
              "  </svg>\n",
              "      </button>\n",
              "      \n",
              "  <style>\n",
              "    .colab-df-container {\n",
              "      display:flex;\n",
              "      flex-wrap:wrap;\n",
              "      gap: 12px;\n",
              "    }\n",
              "\n",
              "    .colab-df-convert {\n",
              "      background-color: #E8F0FE;\n",
              "      border: none;\n",
              "      border-radius: 50%;\n",
              "      cursor: pointer;\n",
              "      display: none;\n",
              "      fill: #1967D2;\n",
              "      height: 32px;\n",
              "      padding: 0 0 0 0;\n",
              "      width: 32px;\n",
              "    }\n",
              "\n",
              "    .colab-df-convert:hover {\n",
              "      background-color: #E2EBFA;\n",
              "      box-shadow: 0px 1px 2px rgba(60, 64, 67, 0.3), 0px 1px 3px 1px rgba(60, 64, 67, 0.15);\n",
              "      fill: #174EA6;\n",
              "    }\n",
              "\n",
              "    [theme=dark] .colab-df-convert {\n",
              "      background-color: #3B4455;\n",
              "      fill: #D2E3FC;\n",
              "    }\n",
              "\n",
              "    [theme=dark] .colab-df-convert:hover {\n",
              "      background-color: #434B5C;\n",
              "      box-shadow: 0px 1px 3px 1px rgba(0, 0, 0, 0.15);\n",
              "      filter: drop-shadow(0px 1px 2px rgba(0, 0, 0, 0.3));\n",
              "      fill: #FFFFFF;\n",
              "    }\n",
              "  </style>\n",
              "\n",
              "      <script>\n",
              "        const buttonEl =\n",
              "          document.querySelector('#df-04567561-ab66-43ee-99c3-4d5e988026bd button.colab-df-convert');\n",
              "        buttonEl.style.display =\n",
              "          google.colab.kernel.accessAllowed ? 'block' : 'none';\n",
              "\n",
              "        async function convertToInteractive(key) {\n",
              "          const element = document.querySelector('#df-04567561-ab66-43ee-99c3-4d5e988026bd');\n",
              "          const dataTable =\n",
              "            await google.colab.kernel.invokeFunction('convertToInteractive',\n",
              "                                                     [key], {});\n",
              "          if (!dataTable) return;\n",
              "\n",
              "          const docLinkHtml = 'Like what you see? Visit the ' +\n",
              "            '<a target=\"_blank\" href=https://colab.research.google.com/notebooks/data_table.ipynb>data table notebook</a>'\n",
              "            + ' to learn more about interactive tables.';\n",
              "          element.innerHTML = '';\n",
              "          dataTable['output_type'] = 'display_data';\n",
              "          await google.colab.output.renderOutput(dataTable, element);\n",
              "          const docLink = document.createElement('div');\n",
              "          docLink.innerHTML = docLinkHtml;\n",
              "          element.appendChild(docLink);\n",
              "        }\n",
              "      </script>\n",
              "    </div>\n",
              "  </div>\n",
              "  "
            ],
            "text/plain": [
              "   Target\n",
              "0       0\n",
              "1       0\n",
              "2       0\n",
              "3       0\n",
              "4       0"
            ]
          },
          "metadata": {},
          "execution_count": 24
        }
      ]
    },
    {
      "cell_type": "code",
      "source": [
        "from sklearn.model_selection import train_test_split\n",
        "train_x, test_x, train_y, test_y = train_test_split(bc_df, bc_df_target, test_size=0.25)"
      ],
      "metadata": {
        "id": "Us2oldrFUVKr"
      },
      "execution_count": null,
      "outputs": []
    },
    {
      "cell_type": "code",
      "source": [
        "print(train_x.shape, test_x.shape, train_y.shape, test_y.shape)"
      ],
      "metadata": {
        "colab": {
          "base_uri": "https://localhost:8080/"
        },
        "id": "vIH17S95XeKi",
        "outputId": "a2452dc5-29b7-417e-e702-8ed0fc24cff3"
      },
      "execution_count": null,
      "outputs": [
        {
          "output_type": "stream",
          "name": "stdout",
          "text": [
            "(426, 30) (143, 30) (426, 1) (143, 1)\n"
          ]
        }
      ]
    },
    {
      "cell_type": "markdown",
      "source": [
        "K-FOLD CROSS VALIDATION"
      ],
      "metadata": {
        "id": "rX2LVi6FmVWj"
      }
    },
    {
      "cell_type": "code",
      "source": [
        "x1 = [1 2 3 4 5] w1\n",
        "x2 = [1,2, 3,4, 5] w2"
      ],
      "metadata": {
        "id": "fIvEpw1qmX0J"
      },
      "execution_count": null,
      "outputs": []
    }
  ]
}