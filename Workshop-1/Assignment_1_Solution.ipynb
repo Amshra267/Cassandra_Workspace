{
  "nbformat": 4,
  "nbformat_minor": 0,
  "metadata": {
    "colab": {
      "name": "Solution of Assignment1.ipynb",
      "provenance": [],
      "collapsed_sections": []
    },
    "kernelspec": {
      "name": "python3",
      "display_name": "Python 3"
    },
    "language_info": {
      "name": "python"
    }
  },
  "cells": [
    {
      "cell_type": "markdown",
      "source": [
        "# **Absenteesm at Work**\n",
        "\n",
        "**Attribute Informations**\n",
        "\n",
        "1. Individual identification (ID)\n",
        "2. Reason for absence (ICD).\n",
        "Absences attested by the International Code of Diseases (ICD) stratified into 21 categories (I to XXI) as follows:\n",
        "\n",
        "I Certain infectious and parasitic diseases  \n",
        "II Neoplasms  \n",
        "III Diseases of the blood and blood-forming organs and certain disorders involving the immune mechanism  \n",
        "IV Endocrine, nutritional and metabolic diseases  \n",
        "V Mental and behavioural disorders  \n",
        "VI Diseases of the nervous system  \n",
        "VII Diseases of the eye and adnexa  \n",
        "VIII Diseases of the ear and mastoid process  \n",
        "IX Diseases of the circulatory system  \n",
        "X Diseases of the respiratory system  \n",
        "XI Diseases of the digestive system  \n",
        "XII Diseases of the skin and subcutaneous tissue  \n",
        "XIII Diseases of the musculoskeletal system and connective tissue  \n",
        "XIV Diseases of the genitourinary system  \n",
        "XV Pregnancy, childbirth and the puerperium  \n",
        "XVI Certain conditions originating in the perinatal period  \n",
        "XVII Congenital malformations, deformations and chromosomal abnormalities  \n",
        "XVIII Symptoms, signs and abnormal clinical and laboratory findings, not elsewhere classified  \n",
        "XIX Injury, poisoning and certain other consequences of external causes  \n",
        "XX External causes of morbidity and mortality  \n",
        "XXI Factors influencing health status and contact with health services.\n",
        "\n",
        "And 7 categories without (CID) patient follow-up (22), medical consultation (23), blood donation (24), laboratory examination (25), unjustified absence (26), physiotherapy (27), dental consultation (28).\n",
        "3. Month of absence\n",
        "4. Day of the week (Monday (2), Tuesday (3), Wednesday (4), Thursday (5), Friday (6))\n",
        "5. Seasons (summer (1), autumn (2), winter (3), spring (4))\n",
        "6. Transportation expense\n",
        "7. Distance from Residence to Work (kilometers)\n",
        "8. Service time\n",
        "9. Age\n",
        "10. Work load Average/day \n",
        "11. Hit target\n",
        "12. Disciplinary failure (yes=1; no=0)\n",
        "13. Education (high school (1), graduate (2), postgraduate (3), master and doctor (4))\n",
        "14. Son (number of children)\n",
        "15. Social drinker (yes=1; no=0)\n",
        "16. Social smoker (yes=1; no=0)\n",
        "17. Pet (number of pet)\n",
        "18. Weight\n",
        "19. Height\n",
        "20. Body mass index\n",
        "21. Absenteeism time in hours (target)"
      ],
      "metadata": {
        "id": "gXW33AC-MaQj"
      }
    },
    {
      "cell_type": "markdown",
      "source": [
        "1. The dataset is given in two parts. First part is in xls format and another part is in csv format. Read both of them and stack then together in their original order."
      ],
      "metadata": {
        "id": "JDL3KV9TP11B"
      }
    },
    {
      "cell_type": "code",
      "source": [
        "import pandas as pd\n",
        "import numpy as np\n",
        "\n",
        "data_xls = pd.read_excel(\"/content/Absentism_at_work1.xlsx\")\n",
        "data_csv = pd.read_csv(\"/content/Absenteeism_at_work2.csv\")\n",
        "\n",
        "data = pd.concat([data_xls, data_csv])\n",
        "\n",
        "data.shape"
      ],
      "metadata": {
        "id": "FDtaEtjXP0OZ",
        "colab": {
          "base_uri": "https://localhost:8080/"
        },
        "outputId": "f59bcb9c-c1b7-45e8-da01-cd52a3f3c6e9"
      },
      "execution_count": 52,
      "outputs": [
        {
          "output_type": "execute_result",
          "data": {
            "text/plain": [
              "(1131, 21)"
            ]
          },
          "metadata": {},
          "execution_count": 52
        }
      ]
    },
    {
      "cell_type": "markdown",
      "source": [
        "2. Find out the id of that person with more number of absent hours."
      ],
      "metadata": {
        "id": "0loSQTLFQXST"
      }
    },
    {
      "cell_type": "code",
      "source": [
        "data[(data[\"Transportation expense\"]>250)&(data[\"Age\"]>35)]"
      ],
      "metadata": {
        "colab": {
          "base_uri": "https://localhost:8080/",
          "height": 540
        },
        "id": "H-UVUN3BtJVN",
        "outputId": "83fe97ab-accc-49fa-e18d-c8cbcd942653"
      },
      "execution_count": null,
      "outputs": [
        {
          "output_type": "execute_result",
          "data": {
            "text/html": [
              "\n",
              "  <div id=\"df-694eeab2-7b54-4447-a125-83d9e9146252\">\n",
              "    <div class=\"colab-df-container\">\n",
              "      <div>\n",
              "<style scoped>\n",
              "    .dataframe tbody tr th:only-of-type {\n",
              "        vertical-align: middle;\n",
              "    }\n",
              "\n",
              "    .dataframe tbody tr th {\n",
              "        vertical-align: top;\n",
              "    }\n",
              "\n",
              "    .dataframe thead th {\n",
              "        text-align: right;\n",
              "    }\n",
              "</style>\n",
              "<table border=\"1\" class=\"dataframe\">\n",
              "  <thead>\n",
              "    <tr style=\"text-align: right;\">\n",
              "      <th></th>\n",
              "      <th>ID</th>\n",
              "      <th>Reason for absence</th>\n",
              "      <th>Month of absence</th>\n",
              "      <th>Day of the week</th>\n",
              "      <th>Seasons</th>\n",
              "      <th>Transportation expense</th>\n",
              "      <th>Distance from Residence to Work</th>\n",
              "      <th>Service time</th>\n",
              "      <th>Age</th>\n",
              "      <th>Work load Average/day</th>\n",
              "      <th>Hit target</th>\n",
              "      <th>Disciplinary failure</th>\n",
              "      <th>Education</th>\n",
              "      <th>Son</th>\n",
              "      <th>Social drinker</th>\n",
              "      <th>Social smoker</th>\n",
              "      <th>Pet</th>\n",
              "      <th>Weight</th>\n",
              "      <th>Height</th>\n",
              "      <th>Body mass index</th>\n",
              "      <th>Absenteeism time in hours</th>\n",
              "    </tr>\n",
              "  </thead>\n",
              "  <tbody>\n",
              "    <tr>\n",
              "      <th>3</th>\n",
              "      <td>7</td>\n",
              "      <td>7</td>\n",
              "      <td>7</td>\n",
              "      <td>5</td>\n",
              "      <td>1</td>\n",
              "      <td>279</td>\n",
              "      <td>5</td>\n",
              "      <td>14</td>\n",
              "      <td>39</td>\n",
              "      <td>239554</td>\n",
              "      <td>97</td>\n",
              "      <td>0</td>\n",
              "      <td>1</td>\n",
              "      <td>2</td>\n",
              "      <td>1</td>\n",
              "      <td>1</td>\n",
              "      <td>0</td>\n",
              "      <td>68</td>\n",
              "      <td>168</td>\n",
              "      <td>24</td>\n",
              "      <td>4</td>\n",
              "    </tr>\n",
              "    <tr>\n",
              "      <th>7</th>\n",
              "      <td>20</td>\n",
              "      <td>23</td>\n",
              "      <td>7</td>\n",
              "      <td>6</td>\n",
              "      <td>1</td>\n",
              "      <td>260</td>\n",
              "      <td>50</td>\n",
              "      <td>11</td>\n",
              "      <td>36</td>\n",
              "      <td>239554</td>\n",
              "      <td>97</td>\n",
              "      <td>0</td>\n",
              "      <td>1</td>\n",
              "      <td>4</td>\n",
              "      <td>1</td>\n",
              "      <td>0</td>\n",
              "      <td>0</td>\n",
              "      <td>65</td>\n",
              "      <td>168</td>\n",
              "      <td>23</td>\n",
              "      <td>4</td>\n",
              "    </tr>\n",
              "    <tr>\n",
              "      <th>10</th>\n",
              "      <td>20</td>\n",
              "      <td>1</td>\n",
              "      <td>7</td>\n",
              "      <td>2</td>\n",
              "      <td>1</td>\n",
              "      <td>260</td>\n",
              "      <td>50</td>\n",
              "      <td>11</td>\n",
              "      <td>36</td>\n",
              "      <td>239554</td>\n",
              "      <td>97</td>\n",
              "      <td>0</td>\n",
              "      <td>1</td>\n",
              "      <td>4</td>\n",
              "      <td>1</td>\n",
              "      <td>0</td>\n",
              "      <td>0</td>\n",
              "      <td>65</td>\n",
              "      <td>168</td>\n",
              "      <td>23</td>\n",
              "      <td>8</td>\n",
              "    </tr>\n",
              "    <tr>\n",
              "      <th>11</th>\n",
              "      <td>20</td>\n",
              "      <td>1</td>\n",
              "      <td>7</td>\n",
              "      <td>3</td>\n",
              "      <td>1</td>\n",
              "      <td>260</td>\n",
              "      <td>50</td>\n",
              "      <td>11</td>\n",
              "      <td>36</td>\n",
              "      <td>239554</td>\n",
              "      <td>97</td>\n",
              "      <td>0</td>\n",
              "      <td>1</td>\n",
              "      <td>4</td>\n",
              "      <td>1</td>\n",
              "      <td>0</td>\n",
              "      <td>0</td>\n",
              "      <td>65</td>\n",
              "      <td>168</td>\n",
              "      <td>23</td>\n",
              "      <td>8</td>\n",
              "    </tr>\n",
              "    <tr>\n",
              "      <th>12</th>\n",
              "      <td>20</td>\n",
              "      <td>11</td>\n",
              "      <td>7</td>\n",
              "      <td>4</td>\n",
              "      <td>1</td>\n",
              "      <td>260</td>\n",
              "      <td>50</td>\n",
              "      <td>11</td>\n",
              "      <td>36</td>\n",
              "      <td>239554</td>\n",
              "      <td>97</td>\n",
              "      <td>0</td>\n",
              "      <td>1</td>\n",
              "      <td>4</td>\n",
              "      <td>1</td>\n",
              "      <td>0</td>\n",
              "      <td>0</td>\n",
              "      <td>65</td>\n",
              "      <td>168</td>\n",
              "      <td>23</td>\n",
              "      <td>8</td>\n",
              "    </tr>\n",
              "    <tr>\n",
              "      <th>...</th>\n",
              "      <td>...</td>\n",
              "      <td>...</td>\n",
              "      <td>...</td>\n",
              "      <td>...</td>\n",
              "      <td>...</td>\n",
              "      <td>...</td>\n",
              "      <td>...</td>\n",
              "      <td>...</td>\n",
              "      <td>...</td>\n",
              "      <td>...</td>\n",
              "      <td>...</td>\n",
              "      <td>...</td>\n",
              "      <td>...</td>\n",
              "      <td>...</td>\n",
              "      <td>...</td>\n",
              "      <td>...</td>\n",
              "      <td>...</td>\n",
              "      <td>...</td>\n",
              "      <td>...</td>\n",
              "      <td>...</td>\n",
              "      <td>...</td>\n",
              "    </tr>\n",
              "    <tr>\n",
              "      <th>341</th>\n",
              "      <td>23</td>\n",
              "      <td>0</td>\n",
              "      <td>5</td>\n",
              "      <td>4</td>\n",
              "      <td>3</td>\n",
              "      <td>378</td>\n",
              "      <td>49</td>\n",
              "      <td>11</td>\n",
              "      <td>36</td>\n",
              "      <td>237,656</td>\n",
              "      <td>99</td>\n",
              "      <td>1</td>\n",
              "      <td>1</td>\n",
              "      <td>2</td>\n",
              "      <td>0</td>\n",
              "      <td>1</td>\n",
              "      <td>4</td>\n",
              "      <td>65</td>\n",
              "      <td>174</td>\n",
              "      <td>21</td>\n",
              "      <td>0</td>\n",
              "    </tr>\n",
              "    <tr>\n",
              "      <th>345</th>\n",
              "      <td>15</td>\n",
              "      <td>22</td>\n",
              "      <td>5</td>\n",
              "      <td>4</td>\n",
              "      <td>3</td>\n",
              "      <td>291</td>\n",
              "      <td>31</td>\n",
              "      <td>12</td>\n",
              "      <td>40</td>\n",
              "      <td>237,656</td>\n",
              "      <td>99</td>\n",
              "      <td>0</td>\n",
              "      <td>1</td>\n",
              "      <td>1</td>\n",
              "      <td>1</td>\n",
              "      <td>0</td>\n",
              "      <td>1</td>\n",
              "      <td>73</td>\n",
              "      <td>171</td>\n",
              "      <td>25</td>\n",
              "      <td>8</td>\n",
              "    </tr>\n",
              "    <tr>\n",
              "      <th>350</th>\n",
              "      <td>15</td>\n",
              "      <td>28</td>\n",
              "      <td>5</td>\n",
              "      <td>5</td>\n",
              "      <td>3</td>\n",
              "      <td>291</td>\n",
              "      <td>31</td>\n",
              "      <td>12</td>\n",
              "      <td>40</td>\n",
              "      <td>237,656</td>\n",
              "      <td>99</td>\n",
              "      <td>0</td>\n",
              "      <td>1</td>\n",
              "      <td>1</td>\n",
              "      <td>1</td>\n",
              "      <td>0</td>\n",
              "      <td>1</td>\n",
              "      <td>73</td>\n",
              "      <td>171</td>\n",
              "      <td>25</td>\n",
              "      <td>2</td>\n",
              "    </tr>\n",
              "    <tr>\n",
              "      <th>361</th>\n",
              "      <td>23</td>\n",
              "      <td>22</td>\n",
              "      <td>6</td>\n",
              "      <td>5</td>\n",
              "      <td>3</td>\n",
              "      <td>378</td>\n",
              "      <td>49</td>\n",
              "      <td>11</td>\n",
              "      <td>36</td>\n",
              "      <td>275,089</td>\n",
              "      <td>96</td>\n",
              "      <td>0</td>\n",
              "      <td>1</td>\n",
              "      <td>2</td>\n",
              "      <td>0</td>\n",
              "      <td>1</td>\n",
              "      <td>4</td>\n",
              "      <td>65</td>\n",
              "      <td>174</td>\n",
              "      <td>21</td>\n",
              "      <td>8</td>\n",
              "    </tr>\n",
              "    <tr>\n",
              "      <th>369</th>\n",
              "      <td>15</td>\n",
              "      <td>28</td>\n",
              "      <td>6</td>\n",
              "      <td>5</td>\n",
              "      <td>3</td>\n",
              "      <td>291</td>\n",
              "      <td>31</td>\n",
              "      <td>12</td>\n",
              "      <td>40</td>\n",
              "      <td>275,089</td>\n",
              "      <td>96</td>\n",
              "      <td>0</td>\n",
              "      <td>1</td>\n",
              "      <td>1</td>\n",
              "      <td>1</td>\n",
              "      <td>0</td>\n",
              "      <td>1</td>\n",
              "      <td>73</td>\n",
              "      <td>171</td>\n",
              "      <td>25</td>\n",
              "      <td>2</td>\n",
              "    </tr>\n",
              "  </tbody>\n",
              "</table>\n",
              "<p>145 rows × 21 columns</p>\n",
              "</div>\n",
              "      <button class=\"colab-df-convert\" onclick=\"convertToInteractive('df-694eeab2-7b54-4447-a125-83d9e9146252')\"\n",
              "              title=\"Convert this dataframe to an interactive table.\"\n",
              "              style=\"display:none;\">\n",
              "        \n",
              "  <svg xmlns=\"http://www.w3.org/2000/svg\" height=\"24px\"viewBox=\"0 0 24 24\"\n",
              "       width=\"24px\">\n",
              "    <path d=\"M0 0h24v24H0V0z\" fill=\"none\"/>\n",
              "    <path d=\"M18.56 5.44l.94 2.06.94-2.06 2.06-.94-2.06-.94-.94-2.06-.94 2.06-2.06.94zm-11 1L8.5 8.5l.94-2.06 2.06-.94-2.06-.94L8.5 2.5l-.94 2.06-2.06.94zm10 10l.94 2.06.94-2.06 2.06-.94-2.06-.94-.94-2.06-.94 2.06-2.06.94z\"/><path d=\"M17.41 7.96l-1.37-1.37c-.4-.4-.92-.59-1.43-.59-.52 0-1.04.2-1.43.59L10.3 9.45l-7.72 7.72c-.78.78-.78 2.05 0 2.83L4 21.41c.39.39.9.59 1.41.59.51 0 1.02-.2 1.41-.59l7.78-7.78 2.81-2.81c.8-.78.8-2.07 0-2.86zM5.41 20L4 18.59l7.72-7.72 1.47 1.35L5.41 20z\"/>\n",
              "  </svg>\n",
              "      </button>\n",
              "      \n",
              "  <style>\n",
              "    .colab-df-container {\n",
              "      display:flex;\n",
              "      flex-wrap:wrap;\n",
              "      gap: 12px;\n",
              "    }\n",
              "\n",
              "    .colab-df-convert {\n",
              "      background-color: #E8F0FE;\n",
              "      border: none;\n",
              "      border-radius: 50%;\n",
              "      cursor: pointer;\n",
              "      display: none;\n",
              "      fill: #1967D2;\n",
              "      height: 32px;\n",
              "      padding: 0 0 0 0;\n",
              "      width: 32px;\n",
              "    }\n",
              "\n",
              "    .colab-df-convert:hover {\n",
              "      background-color: #E2EBFA;\n",
              "      box-shadow: 0px 1px 2px rgba(60, 64, 67, 0.3), 0px 1px 3px 1px rgba(60, 64, 67, 0.15);\n",
              "      fill: #174EA6;\n",
              "    }\n",
              "\n",
              "    [theme=dark] .colab-df-convert {\n",
              "      background-color: #3B4455;\n",
              "      fill: #D2E3FC;\n",
              "    }\n",
              "\n",
              "    [theme=dark] .colab-df-convert:hover {\n",
              "      background-color: #434B5C;\n",
              "      box-shadow: 0px 1px 3px 1px rgba(0, 0, 0, 0.15);\n",
              "      filter: drop-shadow(0px 1px 2px rgba(0, 0, 0, 0.3));\n",
              "      fill: #FFFFFF;\n",
              "    }\n",
              "  </style>\n",
              "\n",
              "      <script>\n",
              "        const buttonEl =\n",
              "          document.querySelector('#df-694eeab2-7b54-4447-a125-83d9e9146252 button.colab-df-convert');\n",
              "        buttonEl.style.display =\n",
              "          google.colab.kernel.accessAllowed ? 'block' : 'none';\n",
              "\n",
              "        async function convertToInteractive(key) {\n",
              "          const element = document.querySelector('#df-694eeab2-7b54-4447-a125-83d9e9146252');\n",
              "          const dataTable =\n",
              "            await google.colab.kernel.invokeFunction('convertToInteractive',\n",
              "                                                     [key], {});\n",
              "          if (!dataTable) return;\n",
              "\n",
              "          const docLinkHtml = 'Like what you see? Visit the ' +\n",
              "            '<a target=\"_blank\" href=https://colab.research.google.com/notebooks/data_table.ipynb>data table notebook</a>'\n",
              "            + ' to learn more about interactive tables.';\n",
              "          element.innerHTML = '';\n",
              "          dataTable['output_type'] = 'display_data';\n",
              "          await google.colab.output.renderOutput(dataTable, element);\n",
              "          const docLink = document.createElement('div');\n",
              "          docLink.innerHTML = docLinkHtml;\n",
              "          element.appendChild(docLink);\n",
              "        }\n",
              "      </script>\n",
              "    </div>\n",
              "  </div>\n",
              "  "
            ],
            "text/plain": [
              "     ID  Reason for absence  ...  Body mass index  Absenteeism time in hours\n",
              "3     7                   7  ...               24                          4\n",
              "7    20                  23  ...               23                          4\n",
              "10   20                   1  ...               23                          8\n",
              "11   20                   1  ...               23                          8\n",
              "12   20                  11  ...               23                          8\n",
              "..   ..                 ...  ...              ...                        ...\n",
              "341  23                   0  ...               21                          0\n",
              "345  15                  22  ...               25                          8\n",
              "350  15                  28  ...               25                          2\n",
              "361  23                  22  ...               21                          8\n",
              "369  15                  28  ...               25                          2\n",
              "\n",
              "[145 rows x 21 columns]"
            ]
          },
          "metadata": {},
          "execution_count": 2
        }
      ]
    },
    {
      "cell_type": "code",
      "source": [
        "x = [1,2,3,4,5]\n",
        "a = [i*i for i in x]\n",
        "a"
      ],
      "metadata": {
        "colab": {
          "base_uri": "https://localhost:8080/"
        },
        "id": "JJVFyAHPxJF3",
        "outputId": "0230be10-5df7-4f79-ade6-89bd14a7cf6d"
      },
      "execution_count": null,
      "outputs": [
        {
          "output_type": "execute_result",
          "data": {
            "text/plain": [
              "[1, 4, 9, 16, 25]"
            ]
          },
          "metadata": {},
          "execution_count": 31
        }
      ]
    },
    {
      "cell_type": "code",
      "source": [
        "# Finding the number of absent hours of each person then summing them to get the total absent hours of each ID\n",
        "x = data.groupby(\"ID\")[\"Absenteeism time in hours\"].sum()\n",
        "# print(x)\n",
        "# \"ID\" is the key of this obtained pandas series and by x == x.max() we set the items with most maximum absent hours as true\n",
        "print(list(x[x == x.max()].keys()))"
      ],
      "metadata": {
        "colab": {
          "base_uri": "https://localhost:8080/"
        },
        "id": "3mO3rSPixWfr",
        "outputId": "1e0a6392-c239-4ede-e2ec-1342bfd988ab"
      },
      "execution_count": null,
      "outputs": [
        {
          "output_type": "stream",
          "name": "stdout",
          "text": [
            "[3]\n"
          ]
        }
      ]
    },
    {
      "cell_type": "code",
      "execution_count": null,
      "metadata": {
        "id": "aM6jFoZaIscR",
        "colab": {
          "base_uri": "https://localhost:8080/"
        },
        "outputId": "dc205f27-a9b8-40b0-b06a-2a2998db0942"
      },
      "outputs": [
        {
          "output_type": "execute_result",
          "data": {
            "text/plain": [
              "3"
            ]
          },
          "metadata": {},
          "execution_count": 37
        }
      ],
      "source": [
        "### SOLUTION 1\n",
        "\n",
        "np.argmax([data[data['ID']==id]['Absenteeism time in hours'].sum() for id in list(data['ID'].unique())])+1\n",
        "\n",
        "### SOLUTION 2\n",
        "\n",
        "# max_id = data[\"ID\"].max()\n",
        "\n",
        "# max_absent_hours = 0 \n",
        "\n",
        "# for id in range(1,max_id+1):\n",
        "\n",
        "#   if data[data[\"ID\"]==id][\"Absenteeism time in hours\"].sum() > max_absent_hours:\n",
        "\n",
        "#     max_absent_hours = data[data[\"ID\"]==id][\"Absenteeism time in hours\"].sum()\n",
        "\n",
        "#     person = id\n",
        "\n",
        "# data[data[\"ID\"]==1][\"Absenteeism time in hours\"].sum()"
      ]
    },
    {
      "cell_type": "markdown",
      "source": [
        "3. Find the ratio of total absent hours of persons below 45 and persons above 45"
      ],
      "metadata": {
        "id": "XT9Tcb1ASqNP"
      }
    },
    {
      "cell_type": "code",
      "source": [
        "### SOLUTION 1\n",
        "\n",
        "data[data['Age']<45]['Absenteeism time in hours'].sum()/data[data['Age']>45]['Absenteeism time in hours'].sum()\n",
        "\n",
        "### SOLUTION 2\n",
        "\n",
        "below_45 = data[data[\"Age\"]<45][\"Absenteeism time in hours\"].sum()\n",
        "after_45 = data[data[\"Age\"]>45][\"Absenteeism time in hours\"].sum()\n",
        "\n",
        "below_45/after_45"
      ],
      "metadata": {
        "id": "8QLhghXOSpo9",
        "colab": {
          "base_uri": "https://localhost:8080/"
        },
        "outputId": "0b487a11-4850-4ce8-d57c-58457db786ee"
      },
      "execution_count": null,
      "outputs": [
        {
          "output_type": "execute_result",
          "data": {
            "text/plain": [
              "5.3441822620016275"
            ]
          },
          "metadata": {},
          "execution_count": 40
        }
      ]
    },
    {
      "cell_type": "markdown",
      "source": [
        "4. There are two persons one is a drinker but not a smoker and another is a smoker but not a drinker. On the basis of this data on first thought which person do you think to be a better employee.\n",
        "\n",
        "On running your code it should print \"Drinker\" or \"Smoker\" as answer.\n",
        "Also write your approach as comment."
      ],
      "metadata": {
        "id": "EAxRKPzoTJbh"
      }
    },
    {
      "cell_type": "code",
      "source": [
        "## Approach : calculate the average absent hours per drinker and smoker and compare them. \n",
        "# If average absent hours per drinker is more than average absent hours for smokers then smoker is a better employee and vice versa\n",
        "\n",
        "num_only_drinkers = data.loc[(data['Social drinker']==1) & (data['Social smoker']==0)]['ID'].unique().shape[0]\n",
        "total_absent_hours_of_drinkers = data.loc[(data['Social drinker']==1) & (data['Social smoker']==0)]['Absenteeism time in hours'].sum()\n",
        "avg_absent_hours_of_drinkers = total_absent_hours_of_drinkers/num_only_drinkers\n",
        "\n",
        "num_only_smokers = data.loc[(data['Social drinker']==0) & (data['Social smoker']==1)]['ID'].unique().shape[0]\n",
        "total_absent_hours_of_smokers = data.loc[(data['Social drinker']==0) & (data['Social smoker']==1)]['Absenteeism time in hours'].sum()\n",
        "avg_absent_hours_of_smokers = total_absent_hours_of_smokers/num_only_smokers\n",
        "\n",
        "print(\"Smoker\") if avg_absent_hours_of_drinkers >= avg_absent_hours_of_smokers else print(\"Drinker\")"
      ],
      "metadata": {
        "id": "mRdEFyLFTJIF",
        "colab": {
          "base_uri": "https://localhost:8080/"
        },
        "outputId": "a37c4040-d815-453a-bf0d-f3abc0f3c1fe"
      },
      "execution_count": null,
      "outputs": [
        {
          "output_type": "stream",
          "name": "stdout",
          "text": [
            "Smoker\n"
          ]
        }
      ]
    },
    {
      "cell_type": "markdown",
      "source": [
        "5. What percent of all the persons listed have children more than 2?"
      ],
      "metadata": {
        "id": "e9TKRFlnWXdS"
      }
    },
    {
      "cell_type": "code",
      "source": [
        "total_persons = len(list(data['ID'].unique()))\n",
        "num_persons_with_children_more_than_two = len(list(data.where(data['Son']>2)['ID'].unique()))\n",
        "percentage = (num_persons_with_children_more_than_two/total_persons)*100\n",
        "\n",
        "print(percentage)"
      ],
      "metadata": {
        "id": "7zIVmvIraaCR",
        "colab": {
          "base_uri": "https://localhost:8080/"
        },
        "outputId": "209cf389-4bea-4691-94d0-9ac0dcfd88dc"
      },
      "execution_count": null,
      "outputs": [
        {
          "output_type": "stream",
          "name": "stdout",
          "text": [
            "8.333333333333332\n"
          ]
        }
      ]
    },
    {
      "cell_type": "markdown",
      "source": [
        "6. How many persons have education level greater than 2 and also Body mass index greater than 27?"
      ],
      "metadata": {
        "id": "GJLDrYSkaa93"
      }
    },
    {
      "cell_type": "code",
      "source": [
        "len(list(data.loc[(data['Education']>2) & (data['Body mass index']>27)]['ID'].unique()))"
      ],
      "metadata": {
        "id": "IMLWJ3XXbhyK",
        "colab": {
          "base_uri": "https://localhost:8080/"
        },
        "outputId": "193aa0ac-6c63-4d12-ca41-72ffd18c9fd8"
      },
      "execution_count": null,
      "outputs": [
        {
          "output_type": "execute_result",
          "data": {
            "text/plain": [
              "2"
            ]
          },
          "metadata": {},
          "execution_count": 12
        }
      ]
    },
    {
      "cell_type": "markdown",
      "source": [
        "7. Lets define a term \"sope\" where sope = number of pets + number of children\n",
        "\n",
        "What is the total absent hours of the person having maximum sope?"
      ],
      "metadata": {
        "id": "n9M9X1gobjdT"
      }
    },
    {
      "cell_type": "code",
      "source": [
        "# get the sope column\n",
        "sope = data['Pet'] + data['Son']\n",
        "# # max value of sope\n",
        "# max_sope = sope.max()\n",
        "# idx = sope[sope==sope.max()].index[0]\n",
        "# id_having_max_sope = data.loc[idx, 'ID']\n",
        "# data[data['ID']==id_having_max_sope]['Absenteeism time in hours'].sum()\n",
        "data[data[\"ID\"]==data.loc[sope[sope==sope.max()].index[0], 'ID']]['Absenteeism time in hours'].sum()"
      ],
      "metadata": {
        "id": "CpZ1GU88cks2",
        "colab": {
          "base_uri": "https://localhost:8080/"
        },
        "outputId": "a6758eb9-e326-49bf-e0d4-163cc0c01f4e"
      },
      "execution_count": null,
      "outputs": [
        {
          "output_type": "execute_result",
          "data": {
            "text/plain": [
              "68"
            ]
          },
          "metadata": {},
          "execution_count": 13
        }
      ]
    },
    {
      "cell_type": "markdown",
      "source": [
        "8. Arrange all the reasons for absence in decreasing order of their frequencies and print the list where each element will be a tuple like (reason of absence, frequency)."
      ],
      "metadata": {
        "id": "tdYiw14zc0_L"
      }
    },
    {
      "cell_type": "code",
      "source": [
        "data['Reason for absence'].value_counts()"
      ],
      "metadata": {
        "id": "SqzLhpbldUm5",
        "colab": {
          "base_uri": "https://localhost:8080/"
        },
        "outputId": "a724e201-8fa2-4617-f999-024dbdf63c2d"
      },
      "execution_count": null,
      "outputs": [
        {
          "output_type": "execute_result",
          "data": {
            "text/plain": [
              "23    212\n",
              "28    175\n",
              "27    123\n",
              "13     85\n",
              "22     61\n",
              "0      59\n",
              "19     57\n",
              "25     56\n",
              "26     53\n",
              "10     43\n",
              "11     33\n",
              "14     28\n",
              "18     28\n",
              "7      23\n",
              "1      20\n",
              "12     12\n",
              "6      12\n",
              "8      10\n",
              "21      9\n",
              "16      6\n",
              "9       6\n",
              "5       5\n",
              "24      4\n",
              "15      3\n",
              "4       3\n",
              "3       2\n",
              "2       2\n",
              "17      1\n",
              "Name: Reason for absence, dtype: int64"
            ]
          },
          "metadata": {},
          "execution_count": 15
        }
      ]
    },
    {
      "cell_type": "markdown",
      "source": [
        "9. If the company had declared December and January as vacations and all friday and monday as holidays then which season would have been the most difficult one for the company."
      ],
      "metadata": {
        "id": "Oa4udo8XdWah"
      }
    },
    {
      "cell_type": "code",
      "source": [
        "data_working_days = data.loc[(data['Month of absence']!=1) & (data['Month of absence']!=12) & (data['Day of the week']!=2) & (data['Day of the week']!=6)]\n",
        "\n",
        "np.argmax([data_working_days.loc[(data_working_days['Seasons']==s)]['Absenteeism time in hours'].sum() for s in list(sorted(data_working_days['Seasons'].unique()))])+1\n",
        "# # sorted(data['Seasons'].unique())\n",
        "# list_of_abh_all_seasons = [data.loc[(data['Seasons']==s)]['Absenteeism time in hours'].sum() for s in sorted(data['Seasons'].unique())]\n",
        "# np.argmax(list_of_abh_all_seasons)+1"
      ],
      "metadata": {
        "colab": {
          "base_uri": "https://localhost:8080/"
        },
        "id": "pd7b30-Tr2r1",
        "outputId": "3b125f0e-5dec-4c1b-e1b4-ea0781d9ab66"
      },
      "execution_count": null,
      "outputs": [
        {
          "output_type": "execute_result",
          "data": {
            "text/plain": [
              "3"
            ]
          },
          "metadata": {},
          "execution_count": 26
        }
      ]
    },
    {
      "cell_type": "markdown",
      "source": [
        "10. What is the mean and varience of absent hours for each person?\n",
        "\n",
        "If there are five persons you need to return a list of length five where each element will be a tuple containing mean and varience respectively. (mean, varience)"
      ],
      "metadata": {
        "id": "Nt2XHdBkfeiR"
      }
    },
    {
      "cell_type": "code",
      "source": [
        "def mean_and_varience(sample):\n",
        "  ## sample is a list of float\n",
        "  mean = np.mean(sample)\n",
        "  var = np.sqrt((np.sum([(e-mean)**2 for e in sample])/len(sample)))\n",
        "  return (mean, var)\n",
        "\n",
        "all_ids = sorted(list(data['ID'].unique()))\n",
        "mean_and_varience_of_all_ids = [mean_and_varience(list(data.loc[(data['ID']==id)]['Absenteeism time in hours'])) for id in all_ids]\n",
        "mean_and_varience_of_all_ids"
      ],
      "metadata": {
        "id": "6qQIhKQGg9JW",
        "colab": {
          "base_uri": "https://localhost:8080/"
        },
        "outputId": "ecd766d6-2c11-4c12-e5e4-dcc0a610439e"
      },
      "execution_count": null,
      "outputs": [
        {
          "output_type": "execute_result",
          "data": {
            "text/plain": [
              "[(12.096153846153847, 19.347291219051648),\n",
              " (9.78, 25.519631658783794),\n",
              " (4.163934426229508, 4.887299234741794),\n",
              " (4.571428571428571, 5.314592925068078),\n",
              " (7.194444444444445, 6.177105778798769),\n",
              " (6.754716981132075, 8.891177862793256),\n",
              " (16.575, 25.6455527333688),\n",
              " (5.257142857142857, 3.425474792057359),\n",
              " (7.217391304347826, 7.661062031831916),\n",
              " (9.333333333333334, 2.981423969999719),\n",
              " (3.3333333333333335, 2.4720661623652207),\n",
              " (8.125, 6.280343010802303),\n",
              " (5.444444444444445, 5.7370358415224825),\n",
              " (3.25, 3.6996621467371855),\n",
              " (2.0, 1.632993161855452),\n",
              " (3.857142857142857, 2.7479120088101916),\n",
              " (5.9411764705882355, 9.762295946411824),\n",
              " (6.206896551724138, 4.245722474930037),\n",
              " (6.166666666666667, 10.565054205746907),\n",
              " (4.666666666666667, 3.0912061651652345),\n",
              " (5.113043478260869, 14.425077932057617),\n",
              " (12.785714285714286, 19.376637521320692),\n",
              " (4.7974683544303796, 8.28966070496428),\n",
              " (5.142857142857143, 6.629556577039166),\n",
              " (5.333333333333333, 3.7712361663282534),\n",
              " (5.090909090909091, 3.8483655433666772),\n",
              " (3.3333333333333335, 2.581988897471611),\n",
              " (34.4, 49.319097044991935),\n",
              " (20.375, 25.327541827030906),\n",
              " (4.8, 3.9191835884530852),\n",
              " (0.0, 0.0),\n",
              " (4.2, 2.521904042583698),\n",
              " (4.857142857142857, 2.7479120088101916),\n",
              " (8.0, 0.0),\n",
              " (0.0, 0.0),\n",
              " (0.0, 0.0)]"
            ]
          },
          "metadata": {},
          "execution_count": 16
        }
      ]
    },
    {
      "cell_type": "markdown",
      "source": [
        "11. Make a vertical bar plot of total absent hours vs person ids. Save the plot as image."
      ],
      "metadata": {
        "id": "8b499nbVg-Yf"
      }
    },
    {
      "cell_type": "code",
      "source": [
        "import matplotlib.pyplot as plt\n",
        "\n",
        "all_ids = sorted(list(data['ID'].unique()))\n",
        "total_absent_hours_for_all_ids = [data.loc[(data['ID']==id)]['Absenteeism time in hours'].sum() for id in all_ids]\n",
        "\n",
        "fig, ax = plt.subplots(1, 1, figsize=(10, 10))\n",
        "ax.bar(all_ids, total_absent_hours_for_all_ids, color='maroon', width=0.8)\n",
        "\n",
        "ax.set_xlabel(\"Person IDs\")\n",
        "ax.set_ylabel(\"Total absent hours for all persons\")\n",
        "ax.set_title(\"Total absent hours vs Person IDs\")\n",
        "\n",
        "fig.savefig(\"absent_hours_vs_ids_vertical.png\")\n",
        "\n",
        "plt.show()"
      ],
      "metadata": {
        "id": "uFZLEa27h3KN",
        "colab": {
          "base_uri": "https://localhost:8080/",
          "height": 621
        },
        "outputId": "5d9d0ff9-2b20-4434-d1d5-f9df03fa2d10"
      },
      "execution_count": null,
      "outputs": [
        {
          "output_type": "display_data",
          "data": {
            "image/png": "[encoded data removed]",
            "text/plain": [
              "<Figure size 720x720 with 1 Axes>"
            ]
          },
          "metadata": {
            "needs_background": "light"
          }
        }
      ]
    },
    {
      "cell_type": "markdown",
      "source": [
        "12. Make a horizontal bar plot of total absent hours vs month. Save the plot as image."
      ],
      "metadata": {
        "id": "eEGZWES-iIpD"
      }
    },
    {
      "cell_type": "code",
      "source": [
        "import matplotlib.pyplot as plt\n",
        "\n",
        "all_ids = sorted(list(data['ID'].unique()))\n",
        "total_absent_hours_for_all_ids = [data.loc[(data['ID']==id)]['Absenteeism time in hours'].sum() for id in all_ids]\n",
        "\n",
        "fig, ax = plt.subplots(1, 2, figsize=(10, 10))\n",
        "ax[0].bar(all_ids, total_absent_hours_for_all_ids, color='maroon', width=0.8)\n",
        "\n",
        "ax[0].set_xlabel(\"Person IDs\")\n",
        "ax[0].set_ylabel(\"Total absent hours for all persons\")\n",
        "ax[0].set_title(\"Total absent hours vs Person IDs\")\n",
        "\n",
        "# fig[0].savefig(\"absent_hours_vs_ids_vertical.png\")\n",
        "\n",
        "\n",
        "\n",
        "all_months = sorted(list(data['Month of absence'].unique()))\n",
        "total_absent_hours_for_all_months = [data.loc[(data['Month of absence']==month)]['Absenteeism time in hours'].sum() for month in all_months]\n",
        "\n",
        "# figm, axm = plt.subplots(1, 1, figsize=(10, 10))\n",
        "\n",
        "ax[1].barh(all_months, total_absent_hours_for_all_months, color='blue')\n",
        "\n",
        "ax[1].set_xlabel(\"Months\")\n",
        "ax[1].set_ylabel(\"Total absent hours for all months\")\n",
        "ax[1].set_title(\"Total absent hours vs Months\")\n",
        "\n",
        "# fig[1].savefig(\"absent_hours_vs_months_horizontal.png\")\n",
        "plt.show()"
      ],
      "metadata": {
        "id": "laW-gt1YiQW5",
        "colab": {
          "base_uri": "https://localhost:8080/",
          "height": 621
        },
        "outputId": "0df2a3b5-00b9-4a9a-e21d-7306b9f8e098"
      },
      "execution_count": null,
      "outputs": [
        {
          "output_type": "display_data",
          "data": {
            "image/png": "[encoded data removed]",
            "text/plain": [
              "<Figure size 720x720 with 2 Axes>"
            ]
          },
          "metadata": {
            "needs_background": "light"
          }
        }
      ]
    },
    {
      "cell_type": "markdown",
      "source": [
        "# **Resources**\n",
        "1. [Pandas and Matplotlib Tutorial](https://github.com/LearnDataSci/articles/tree/master/Python%20Pandas%20Tutorial%20A%20Complete%20Introduction%20for%20Beginners)\n",
        "2. [YouTube Playlist](https://www.youtube.com/watch?v=Iqjy9UqKKuo&list=PLQVvvaa0QuDc-3szzjeP6N6b0aDrrKyL-)\n",
        "3. [loc, iloc and ix](https://medium.com/@shivangisareen/pandas-data-frames-99fdc661287)"
      ],
      "metadata": {
        "id": "IJOZV-QDiYfx"
      }
    }
  ]
}